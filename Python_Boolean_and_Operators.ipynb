{
  "nbformat": 4,
  "nbformat_minor": 0,
  "metadata": {
    "colab": {
      "provenance": []
    },
    "kernelspec": {
      "name": "python3",
      "display_name": "Python 3"
    },
    "language_info": {
      "name": "python"
    }
  },
  "cells": [
    {
      "cell_type": "markdown",
      "source": [
        "# Boolean"
      ],
      "metadata": {
        "id": "VM1b4uQOu_O6"
      }
    },
    {
      "cell_type": "code",
      "execution_count": null,
      "metadata": {
        "colab": {
          "base_uri": "https://localhost:8080/"
        },
        "id": "XsiJVrTIoRit",
        "outputId": "3c42867d-9af8-4f38-f0db-8fd1443f55fd"
      },
      "outputs": [
        {
          "output_type": "stream",
          "name": "stdout",
          "text": [
            "True\n",
            "False\n",
            "False\n"
          ]
        }
      ],
      "source": [
        "print(10 > 9)\n",
        "print(10 == 9)\n",
        "print(10 < 9)"
      ]
    },
    {
      "cell_type": "code",
      "source": [
        "a = 200\n",
        "b = 33\n",
        "\n",
        "if b > a:\n",
        "  print(\"b is greater than a\")\n",
        "else:\n",
        "  print(\"b is not greater than a\")"
      ],
      "metadata": {
        "colab": {
          "base_uri": "https://localhost:8080/"
        },
        "id": "Uk_RUI8OrR0k",
        "outputId": "56dbf1a7-0cf8-47a3-9e45-8eb96163506a"
      },
      "execution_count": null,
      "outputs": [
        {
          "output_type": "stream",
          "name": "stdout",
          "text": [
            "b is not greater than a\n"
          ]
        }
      ]
    },
    {
      "cell_type": "code",
      "source": [
        "print(bool(\"Hello\"))\n",
        "print(bool(15))"
      ],
      "metadata": {
        "colab": {
          "base_uri": "https://localhost:8080/"
        },
        "id": "zFZWkFa6rRxi",
        "outputId": "864fdf3d-b513-492e-e0f4-d3d12c851739"
      },
      "execution_count": null,
      "outputs": [
        {
          "output_type": "stream",
          "name": "stdout",
          "text": [
            "True\n",
            "True\n"
          ]
        }
      ]
    },
    {
      "cell_type": "code",
      "source": [
        "x = \"Hello\"\n",
        "y = 15\n",
        "\n",
        "print(bool(x))\n",
        "print(bool(y))"
      ],
      "metadata": {
        "colab": {
          "base_uri": "https://localhost:8080/"
        },
        "id": "JNlp4a_KrRu9",
        "outputId": "851a5ce0-d0ef-44b3-f4dc-4be0d12358d5"
      },
      "execution_count": null,
      "outputs": [
        {
          "output_type": "stream",
          "name": "stdout",
          "text": [
            "True\n",
            "True\n"
          ]
        }
      ]
    },
    {
      "cell_type": "code",
      "source": [
        "bool(\"abc\")"
      ],
      "metadata": {
        "colab": {
          "base_uri": "https://localhost:8080/"
        },
        "id": "EVe2devYrRsn",
        "outputId": "c2029ced-8812-4938-abe0-5f7156871e3c"
      },
      "execution_count": null,
      "outputs": [
        {
          "output_type": "execute_result",
          "data": {
            "text/plain": [
              "True"
            ]
          },
          "metadata": {},
          "execution_count": 20
        }
      ]
    },
    {
      "cell_type": "code",
      "source": [
        "bool(123)"
      ],
      "metadata": {
        "colab": {
          "base_uri": "https://localhost:8080/"
        },
        "id": "gICwLNKNtuHT",
        "outputId": "0f0a8e59-7298-43bb-ae4e-7749570d9738"
      },
      "execution_count": null,
      "outputs": [
        {
          "output_type": "execute_result",
          "data": {
            "text/plain": [
              "True"
            ]
          },
          "metadata": {},
          "execution_count": 21
        }
      ]
    },
    {
      "cell_type": "code",
      "source": [
        "bool([\"apple\", \"cherry\", \"banana\"])"
      ],
      "metadata": {
        "colab": {
          "base_uri": "https://localhost:8080/"
        },
        "id": "mZ4vdrk7tuEF",
        "outputId": "bd3e1756-6151-4c65-e972-518ab46f9915"
      },
      "execution_count": null,
      "outputs": [
        {
          "output_type": "execute_result",
          "data": {
            "text/plain": [
              "True"
            ]
          },
          "metadata": {},
          "execution_count": 22
        }
      ]
    },
    {
      "cell_type": "code",
      "source": [
        "bool(False)"
      ],
      "metadata": {
        "colab": {
          "base_uri": "https://localhost:8080/"
        },
        "id": "E31EYw5NrRp8",
        "outputId": "ebc14b47-35bb-45d8-8604-ae3d5625e18e"
      },
      "execution_count": null,
      "outputs": [
        {
          "output_type": "execute_result",
          "data": {
            "text/plain": [
              "False"
            ]
          },
          "metadata": {},
          "execution_count": 23
        }
      ]
    },
    {
      "cell_type": "code",
      "source": [
        "bool(None)"
      ],
      "metadata": {
        "colab": {
          "base_uri": "https://localhost:8080/"
        },
        "id": "NXM-f2NIt1ZL",
        "outputId": "e1d7adb0-4294-41f1-f49d-40e2f233e15f"
      },
      "execution_count": null,
      "outputs": [
        {
          "output_type": "execute_result",
          "data": {
            "text/plain": [
              "False"
            ]
          },
          "metadata": {},
          "execution_count": 24
        }
      ]
    },
    {
      "cell_type": "code",
      "source": [
        "bool(0)"
      ],
      "metadata": {
        "colab": {
          "base_uri": "https://localhost:8080/"
        },
        "id": "-Dgcmo2-t1UF",
        "outputId": "649aab89-0718-4ac0-d914-96cb923eb9d1"
      },
      "execution_count": null,
      "outputs": [
        {
          "output_type": "execute_result",
          "data": {
            "text/plain": [
              "False"
            ]
          },
          "metadata": {},
          "execution_count": 25
        }
      ]
    },
    {
      "cell_type": "code",
      "source": [
        "bool(\"\")"
      ],
      "metadata": {
        "colab": {
          "base_uri": "https://localhost:8080/"
        },
        "id": "EdmPyPQ3t1Qe",
        "outputId": "6189fa20-f13f-4061-bed5-b001bce5eb62"
      },
      "execution_count": null,
      "outputs": [
        {
          "output_type": "execute_result",
          "data": {
            "text/plain": [
              "False"
            ]
          },
          "metadata": {},
          "execution_count": 26
        }
      ]
    },
    {
      "cell_type": "code",
      "source": [
        "bool(())"
      ],
      "metadata": {
        "colab": {
          "base_uri": "https://localhost:8080/"
        },
        "id": "SwhDY5got1Na",
        "outputId": "1a481245-8d7a-44d6-b5e3-a56ad0d95ab5"
      },
      "execution_count": null,
      "outputs": [
        {
          "output_type": "execute_result",
          "data": {
            "text/plain": [
              "False"
            ]
          },
          "metadata": {},
          "execution_count": 27
        }
      ]
    },
    {
      "cell_type": "code",
      "source": [
        "bool([])"
      ],
      "metadata": {
        "colab": {
          "base_uri": "https://localhost:8080/"
        },
        "id": "_Q6SeETIt1Kd",
        "outputId": "b9f9c19b-662c-4ffd-a653-2412ca82cc22"
      },
      "execution_count": null,
      "outputs": [
        {
          "output_type": "execute_result",
          "data": {
            "text/plain": [
              "False"
            ]
          },
          "metadata": {},
          "execution_count": 28
        }
      ]
    },
    {
      "cell_type": "code",
      "source": [
        "bool({})"
      ],
      "metadata": {
        "colab": {
          "base_uri": "https://localhost:8080/"
        },
        "id": "Ph_AUiZJt9sS",
        "outputId": "5e6d4c78-ffbf-4b66-c0f1-7df68bf03aef"
      },
      "execution_count": null,
      "outputs": [
        {
          "output_type": "execute_result",
          "data": {
            "text/plain": [
              "False"
            ]
          },
          "metadata": {},
          "execution_count": 29
        }
      ]
    },
    {
      "cell_type": "code",
      "source": [
        "class myclass():\n",
        "  def __len__(self):\n",
        "    return 0\n",
        "\n",
        "myobj = myclass()\n",
        "print(bool(myobj))"
      ],
      "metadata": {
        "colab": {
          "base_uri": "https://localhost:8080/"
        },
        "id": "jpbRSxEcrRnE",
        "outputId": "3284d71b-79b9-4acb-e0e6-f08775d24430"
      },
      "execution_count": null,
      "outputs": [
        {
          "output_type": "stream",
          "name": "stdout",
          "text": [
            "False\n"
          ]
        }
      ]
    },
    {
      "cell_type": "code",
      "source": [
        "def myFunction() :\n",
        "  return True\n",
        "\n",
        "print(myFunction())"
      ],
      "metadata": {
        "colab": {
          "base_uri": "https://localhost:8080/"
        },
        "id": "eUgzBZVyrRkt",
        "outputId": "b20cf9ce-bed9-427e-9b81-ebfdcd1e4aeb"
      },
      "execution_count": null,
      "outputs": [
        {
          "output_type": "stream",
          "name": "stdout",
          "text": [
            "True\n"
          ]
        }
      ]
    },
    {
      "cell_type": "code",
      "source": [
        "def myFunction() :\n",
        "  return True\n",
        "\n",
        "if myFunction():\n",
        "  print(\"YES!\")\n",
        "else:\n",
        "  print(\"NO!\")"
      ],
      "metadata": {
        "colab": {
          "base_uri": "https://localhost:8080/"
        },
        "id": "1FEQaHsgrRiE",
        "outputId": "d5625377-69ae-427e-b7e5-e05641c4aa9c"
      },
      "execution_count": null,
      "outputs": [
        {
          "output_type": "stream",
          "name": "stdout",
          "text": [
            "YES!\n"
          ]
        }
      ]
    },
    {
      "cell_type": "code",
      "source": [
        "x = 500\n",
        "print(isinstance(x, int))"
      ],
      "metadata": {
        "colab": {
          "base_uri": "https://localhost:8080/"
        },
        "id": "tHeIhxbKrtR3",
        "outputId": "6b7de9ff-dc27-4628-cb4f-ed5da0109a1c"
      },
      "execution_count": null,
      "outputs": [
        {
          "output_type": "stream",
          "name": "stdout",
          "text": [
            "True\n"
          ]
        }
      ]
    },
    {
      "cell_type": "markdown",
      "source": [
        "# Pyhton Operators\n"
      ],
      "metadata": {
        "id": "HpI8q99VvGS4"
      }
    },
    {
      "cell_type": "markdown",
      "source": [
        "***(1)Arithmetic operators***"
      ],
      "metadata": {
        "id": "nxJSnmHMv_tJ"
      }
    },
    {
      "cell_type": "code",
      "source": [
        "x=50\n",
        "y=10\n"
      ],
      "metadata": {
        "id": "sWva-jkqrtOb"
      },
      "execution_count": null,
      "outputs": []
    },
    {
      "cell_type": "code",
      "source": [
        "x+y"
      ],
      "metadata": {
        "colab": {
          "base_uri": "https://localhost:8080/"
        },
        "id": "1osP0eGSrtMA",
        "outputId": "60abce93-819a-411a-d3a4-bed981c627d9"
      },
      "execution_count": null,
      "outputs": [
        {
          "output_type": "execute_result",
          "data": {
            "text/plain": [
              "60"
            ]
          },
          "metadata": {},
          "execution_count": 32
        }
      ]
    },
    {
      "cell_type": "code",
      "source": [
        "x-y"
      ],
      "metadata": {
        "colab": {
          "base_uri": "https://localhost:8080/"
        },
        "id": "zsowa-EIrtJY",
        "outputId": "f3f5f068-56a2-471f-8866-c20aff7f636e"
      },
      "execution_count": null,
      "outputs": [
        {
          "output_type": "execute_result",
          "data": {
            "text/plain": [
              "40"
            ]
          },
          "metadata": {},
          "execution_count": 33
        }
      ]
    },
    {
      "cell_type": "code",
      "source": [
        "x*y"
      ],
      "metadata": {
        "colab": {
          "base_uri": "https://localhost:8080/"
        },
        "id": "kFIS0zTRrtGw",
        "outputId": "4f63cf80-4ee0-4071-b1fc-6bbd2dc26c47"
      },
      "execution_count": null,
      "outputs": [
        {
          "output_type": "execute_result",
          "data": {
            "text/plain": [
              "500"
            ]
          },
          "metadata": {},
          "execution_count": 34
        }
      ]
    },
    {
      "cell_type": "code",
      "source": [
        "x/y"
      ],
      "metadata": {
        "colab": {
          "base_uri": "https://localhost:8080/"
        },
        "id": "9itYAZ37wQD-",
        "outputId": "7061f7bb-c96d-4370-f93f-e762ee7be050"
      },
      "execution_count": null,
      "outputs": [
        {
          "output_type": "execute_result",
          "data": {
            "text/plain": [
              "5.0"
            ]
          },
          "metadata": {},
          "execution_count": 35
        }
      ]
    },
    {
      "cell_type": "code",
      "source": [
        "x%y"
      ],
      "metadata": {
        "colab": {
          "base_uri": "https://localhost:8080/"
        },
        "id": "Vh6WiuVvwQBD",
        "outputId": "2e7559cb-b078-4556-b319-feaa7515d434"
      },
      "execution_count": null,
      "outputs": [
        {
          "output_type": "execute_result",
          "data": {
            "text/plain": [
              "0"
            ]
          },
          "metadata": {},
          "execution_count": 36
        }
      ]
    },
    {
      "cell_type": "code",
      "source": [
        "x**y"
      ],
      "metadata": {
        "colab": {
          "base_uri": "https://localhost:8080/"
        },
        "id": "O2P_29Y2wP-j",
        "outputId": "67e672a4-cee6-4739-8161-395ed96e2a6a"
      },
      "execution_count": null,
      "outputs": [
        {
          "output_type": "execute_result",
          "data": {
            "text/plain": [
              "97656250000000000"
            ]
          },
          "metadata": {},
          "execution_count": 37
        }
      ]
    },
    {
      "cell_type": "code",
      "source": [
        "x//y"
      ],
      "metadata": {
        "colab": {
          "base_uri": "https://localhost:8080/"
        },
        "id": "Pld2JV2awP8i",
        "outputId": "fcc5cf20-efef-4ed4-f538-bd774f9cf466"
      },
      "execution_count": null,
      "outputs": [
        {
          "output_type": "execute_result",
          "data": {
            "text/plain": [
              "5"
            ]
          },
          "metadata": {},
          "execution_count": 38
        }
      ]
    },
    {
      "cell_type": "markdown",
      "source": [
        "***(2)Assignment operators***"
      ],
      "metadata": {
        "id": "HaBdA-YpwcQF"
      }
    },
    {
      "cell_type": "code",
      "source": [
        "# =\n",
        "x=10\n",
        "print(x)"
      ],
      "metadata": {
        "colab": {
          "base_uri": "https://localhost:8080/"
        },
        "id": "nBMefWdPwP5g",
        "outputId": "c24a7e2e-e309-4ca5-a3b0-01a0d3661b94"
      },
      "execution_count": null,
      "outputs": [
        {
          "output_type": "stream",
          "name": "stdout",
          "text": [
            "10\n"
          ]
        }
      ]
    },
    {
      "cell_type": "code",
      "source": [
        "x += 5\n",
        "print(x)"
      ],
      "metadata": {
        "colab": {
          "base_uri": "https://localhost:8080/"
        },
        "id": "1FactF52wP2n",
        "outputId": "00d85e88-14f1-40a6-9ef0-1c576baa0782"
      },
      "execution_count": null,
      "outputs": [
        {
          "output_type": "stream",
          "name": "stdout",
          "text": [
            "15\n"
          ]
        }
      ]
    },
    {
      "cell_type": "code",
      "source": [
        "x-= 5\n",
        "print(x)"
      ],
      "metadata": {
        "colab": {
          "base_uri": "https://localhost:8080/"
        },
        "id": "7Zf4yzHn0JCN",
        "outputId": "30bb352e-b0b7-43a7-8994-5c6a23e521d2"
      },
      "execution_count": null,
      "outputs": [
        {
          "output_type": "stream",
          "name": "stdout",
          "text": [
            "10\n"
          ]
        }
      ]
    },
    {
      "cell_type": "code",
      "source": [
        "x *= 5\n",
        "print(x)"
      ],
      "metadata": {
        "colab": {
          "base_uri": "https://localhost:8080/"
        },
        "id": "H81QDwlS0OGD",
        "outputId": "e2d804cc-e7db-4c72-894c-3186de49b86a"
      },
      "execution_count": null,
      "outputs": [
        {
          "output_type": "stream",
          "name": "stdout",
          "text": [
            "50\n"
          ]
        }
      ]
    },
    {
      "cell_type": "code",
      "source": [
        "x /= 5\n",
        "print(x)"
      ],
      "metadata": {
        "colab": {
          "base_uri": "https://localhost:8080/"
        },
        "id": "WkoN8dIO0OCo",
        "outputId": "a7263e7c-1925-471c-b9ad-e7f4ae45c439"
      },
      "execution_count": null,
      "outputs": [
        {
          "output_type": "stream",
          "name": "stdout",
          "text": [
            "10.0\n"
          ]
        }
      ]
    },
    {
      "cell_type": "code",
      "source": [
        "x %= 5\n",
        "print(x)"
      ],
      "metadata": {
        "colab": {
          "base_uri": "https://localhost:8080/"
        },
        "id": "1dyTDSv20OAH",
        "outputId": "a91ca335-4cfa-4a9c-dd9c-d7b6da0aa625"
      },
      "execution_count": null,
      "outputs": [
        {
          "output_type": "stream",
          "name": "stdout",
          "text": [
            "0.0\n"
          ]
        }
      ]
    },
    {
      "cell_type": "code",
      "source": [
        "x=25\n",
        "x //= 5\n",
        "print(x)"
      ],
      "metadata": {
        "colab": {
          "base_uri": "https://localhost:8080/"
        },
        "id": "b-hPKHJO0N9f",
        "outputId": "348a1fcb-67c8-43a4-e740-6b2cf7a06b23"
      },
      "execution_count": null,
      "outputs": [
        {
          "output_type": "stream",
          "name": "stdout",
          "text": [
            "5\n"
          ]
        }
      ]
    },
    {
      "cell_type": "code",
      "source": [
        "x=25\n",
        "x **= 5\n",
        "print(x)"
      ],
      "metadata": {
        "colab": {
          "base_uri": "https://localhost:8080/"
        },
        "id": "83gFyZtw0N6s",
        "outputId": "6916d0f8-80d2-4d26-a753-bb19c37e845e"
      },
      "execution_count": null,
      "outputs": [
        {
          "output_type": "stream",
          "name": "stdout",
          "text": [
            "9765625\n"
          ]
        }
      ]
    },
    {
      "cell_type": "code",
      "source": [
        "x =500\n",
        "x &= 5\n",
        "print(x)"
      ],
      "metadata": {
        "colab": {
          "base_uri": "https://localhost:8080/"
        },
        "id": "-jV7KyGZ0N3_",
        "outputId": "efc0b8a5-440f-4cd5-ce41-015a5fc1fdac"
      },
      "execution_count": null,
      "outputs": [
        {
          "output_type": "stream",
          "name": "stdout",
          "text": [
            "4\n"
          ]
        }
      ]
    },
    {
      "cell_type": "code",
      "source": [
        "x |= 10\n",
        "print(x)"
      ],
      "metadata": {
        "colab": {
          "base_uri": "https://localhost:8080/"
        },
        "id": "qJYt6ooj0N1s",
        "outputId": "28e64d1e-0824-4147-b014-aa7d36901ac5"
      },
      "execution_count": null,
      "outputs": [
        {
          "output_type": "stream",
          "name": "stdout",
          "text": [
            "14\n"
          ]
        }
      ]
    },
    {
      "cell_type": "code",
      "source": [
        "x ^= 50\n",
        "print(x)"
      ],
      "metadata": {
        "colab": {
          "base_uri": "https://localhost:8080/"
        },
        "id": "oAkl5YVH0Ny2",
        "outputId": "400b1d65-3a07-4b3e-8e4f-cf667cd1bbf7"
      },
      "execution_count": null,
      "outputs": [
        {
          "output_type": "stream",
          "name": "stdout",
          "text": [
            "54\n"
          ]
        }
      ]
    },
    {
      "cell_type": "code",
      "source": [
        "x = 250\n",
        "x >>= 3\n",
        "print(x)"
      ],
      "metadata": {
        "colab": {
          "base_uri": "https://localhost:8080/"
        },
        "id": "xySg8vUu0NwQ",
        "outputId": "caacafa9-ad56-4019-d804-934fc249fbf2"
      },
      "execution_count": null,
      "outputs": [
        {
          "output_type": "stream",
          "name": "stdout",
          "text": [
            "31\n"
          ]
        }
      ]
    },
    {
      "cell_type": "code",
      "source": [
        "x = 500\n",
        "x <<= 10\n",
        "print(x)\n"
      ],
      "metadata": {
        "colab": {
          "base_uri": "https://localhost:8080/"
        },
        "id": "Wug4Us9a2Dn-",
        "outputId": "7bed6003-d1ab-42c7-bead-a49b625795c4"
      },
      "execution_count": null,
      "outputs": [
        {
          "output_type": "stream",
          "name": "stdout",
          "text": [
            "512000\n"
          ]
        }
      ]
    },
    {
      "cell_type": "markdown",
      "source": [
        "***(3)Comparison Opreater***"
      ],
      "metadata": {
        "id": "Jq7FPg0E2lV4"
      }
    },
    {
      "cell_type": "code",
      "source": [
        "x= 10\n",
        "y= 20"
      ],
      "metadata": {
        "id": "ztc3H2jP0NtY"
      },
      "execution_count": null,
      "outputs": []
    },
    {
      "cell_type": "code",
      "source": [
        "print(x==y)"
      ],
      "metadata": {
        "colab": {
          "base_uri": "https://localhost:8080/"
        },
        "id": "FHObha5r0Nqa",
        "outputId": "8558e229-716c-461b-cf08-a5b43fbc3f50"
      },
      "execution_count": null,
      "outputs": [
        {
          "output_type": "stream",
          "name": "stdout",
          "text": [
            "False\n"
          ]
        }
      ]
    },
    {
      "cell_type": "code",
      "source": [
        "print(x!=y)"
      ],
      "metadata": {
        "colab": {
          "base_uri": "https://localhost:8080/"
        },
        "id": "0nc2jfLL0NlE",
        "outputId": "82321946-39d3-4d1d-950f-1734b19a9c1a"
      },
      "execution_count": null,
      "outputs": [
        {
          "output_type": "stream",
          "name": "stdout",
          "text": [
            "True\n"
          ]
        }
      ]
    },
    {
      "cell_type": "code",
      "source": [
        "print(x>y)\n",
        "print(x<y)\n",
        "print(x>=y)\n",
        "print(x<=y)"
      ],
      "metadata": {
        "colab": {
          "base_uri": "https://localhost:8080/"
        },
        "id": "irQg1XyE0Niw",
        "outputId": "d3fc0534-66ae-4636-e551-796dc3e7e9fe"
      },
      "execution_count": null,
      "outputs": [
        {
          "output_type": "stream",
          "name": "stdout",
          "text": [
            "False\n",
            "True\n",
            "False\n",
            "True\n"
          ]
        }
      ]
    },
    {
      "cell_type": "markdown",
      "source": [
        "***(4)Identity Operator***"
      ],
      "metadata": {
        "id": "fALzZjw23of1"
      }
    },
    {
      "cell_type": "code",
      "source": [
        "x=20\n",
        "y=50"
      ],
      "metadata": {
        "id": "N250p86o0NgQ"
      },
      "execution_count": null,
      "outputs": []
    },
    {
      "cell_type": "code",
      "source": [
        "print(x is y)"
      ],
      "metadata": {
        "colab": {
          "base_uri": "https://localhost:8080/"
        },
        "id": "hgsh8a_H0Nde",
        "outputId": "e2b9fffb-6d61-4190-de16-468cabf2d731"
      },
      "execution_count": null,
      "outputs": [
        {
          "output_type": "stream",
          "name": "stdout",
          "text": [
            "False\n"
          ]
        }
      ]
    },
    {
      "cell_type": "code",
      "source": [
        "print(x is not y )"
      ],
      "metadata": {
        "colab": {
          "base_uri": "https://localhost:8080/"
        },
        "id": "ezeTW6Qe0NbC",
        "outputId": "b8dce9e8-3bf7-4e24-feae-656c217b2ec9"
      },
      "execution_count": null,
      "outputs": [
        {
          "output_type": "stream",
          "name": "stdout",
          "text": [
            "True\n"
          ]
        }
      ]
    },
    {
      "cell_type": "markdown",
      "source": [
        "***(5)Membership Opreator***"
      ],
      "metadata": {
        "id": "kz_T6b7S384S"
      }
    },
    {
      "cell_type": "code",
      "source": [
        "x=[\"Ncr\",\"Delhi\",\"Noida\",\"Hajipur\"]\n",
        "print(\"Delhi\" in x)\n",
        "print(\"Hajipur\" not in x)"
      ],
      "metadata": {
        "colab": {
          "base_uri": "https://localhost:8080/"
        },
        "id": "LLSc9fcV0NYN",
        "outputId": "5ef6828e-9eb6-46aa-c756-c68478baa5f9"
      },
      "execution_count": null,
      "outputs": [
        {
          "output_type": "stream",
          "name": "stdout",
          "text": [
            "True\n",
            "False\n"
          ]
        }
      ]
    },
    {
      "cell_type": "markdown",
      "source": [
        "***(6)Bitwise Operator***"
      ],
      "metadata": {
        "id": "T9EDUDbR41rM"
      }
    },
    {
      "cell_type": "code",
      "source": [
        "print(6 & 3)\n",
        "\n",
        "# The & operator compares each bit and set it to 1 if both are 1, otherwise it is set to 0:\n",
        "\n",
        "# 6 = 0000000000000110\n",
        "# 3 = 0000000000000011\n",
        "# --------------------\n",
        "# 2 = 0000000000000010\n",
        "# ====================\n",
        "\n",
        "# Decimal numbers and their binary values:\n",
        "# 0 = 0000000000000000\n",
        "# 1 = 0000000000000001\n",
        "# 2 = 0000000000000010\n",
        "# 3 = 0000000000000011\n",
        "# 4 = 0000000000000100\n",
        "# 5 = 0000000000000101\n",
        "# 6 = 0000000000000110\n",
        "# 7 = 0000000000000111\n"
      ],
      "metadata": {
        "colab": {
          "base_uri": "https://localhost:8080/"
        },
        "id": "i1K4b60o0NVi",
        "outputId": "802e1706-82d0-4ffb-97d5-028c06dc61fc"
      },
      "execution_count": null,
      "outputs": [
        {
          "output_type": "stream",
          "name": "stdout",
          "text": [
            "2\n",
            "\n",
            "The & operator compares each bit and set it to 1 if both are 1, otherwise it is set to 0:\n",
            "\n",
            "6 = 0000000000000110\n",
            "3 = 0000000000000011\n",
            "--------------------\n",
            "2 = 0000000000000010\n",
            "====================\n",
            "\n",
            "Decimal numbers and their binary values:\n",
            "0 = 0000000000000000\n",
            "1 = 0000000000000001\n",
            "2 = 0000000000000010\n",
            "3 = 0000000000000011\n",
            "4 = 0000000000000100\n",
            "5 = 0000000000000101\n",
            "6 = 0000000000000110\n",
            "7 = 0000000000000111\n",
            "\n"
          ]
        }
      ]
    },
    {
      "cell_type": "code",
      "source": [
        "print(6 | 3)\n",
        "\n",
        "# The | operator compares each bit and set it to 1 if one or both is 1, otherwise it is set to 0:\n",
        "\n",
        "# 6 = 0000000000000110\n",
        "# 3 = 0000000000000011\n",
        "# --------------------\n",
        "# 7 = 0000000000000111\n",
        "\n",
        "\n"
      ],
      "metadata": {
        "colab": {
          "base_uri": "https://localhost:8080/"
        },
        "id": "gLdQljR60NSs",
        "outputId": "137060a4-12a5-439b-e005-f5c0d7f5b0d3"
      },
      "execution_count": null,
      "outputs": [
        {
          "output_type": "stream",
          "name": "stdout",
          "text": [
            "7\n"
          ]
        }
      ]
    },
    {
      "cell_type": "code",
      "source": [
        "print(6 ^ 3)\n",
        "\n",
        "# The ^ operator compares each bit and set it to 1 if only one is 1, otherwise (if both are 1 or both are 0) it is set to 0:\n",
        "\n",
        "# 6 = 0000000000000110\n",
        "# 3 = 0000000000000011\n",
        "# --------------------\n",
        "# 5 = 0000000000000101"
      ],
      "metadata": {
        "colab": {
          "base_uri": "https://localhost:8080/"
        },
        "id": "qKPWpThe6NPn",
        "outputId": "2707fb19-7ceb-4e3f-8d20-a0d14f2b9bb2"
      },
      "execution_count": null,
      "outputs": [
        {
          "output_type": "stream",
          "name": "stdout",
          "text": [
            "5\n"
          ]
        }
      ]
    },
    {
      "cell_type": "code",
      "source": [
        "print(~3)\n",
        "\n",
        "# The ~ operator inverts each bit (0 becomes 1 and 1 becomes 0)\n",
        "\n",
        "# Inverted 3 becomes -4:\n",
        "#  3 = 0000000000000011\n",
        "# -4 = 1111111111111100\n",
        "\n",
        "# Decimal numbers and their binary values:\n",
        "# -1 = 1111111111111111\n",
        "# -2 = 1111111111111110\n",
        "# -3 = 1111111111111101\n",
        "# -4 = 1111111111111100"
      ],
      "metadata": {
        "colab": {
          "base_uri": "https://localhost:8080/"
        },
        "id": "869dYLW16NMe",
        "outputId": "6b3d1c8b-5d3f-4069-ddf7-e7b9a4b27111"
      },
      "execution_count": null,
      "outputs": [
        {
          "output_type": "stream",
          "name": "stdout",
          "text": [
            "-4\n"
          ]
        }
      ]
    },
    {
      "cell_type": "code",
      "source": [
        "print(3 << 2)\n",
        "\n",
        "# The << operator inserts the specified number of 0's (in this case 2) from the right and let the same amount of leftmost bits fall off:\n",
        "\n",
        "# If you push 00 in from the left:\n",
        "#  3 = 0000000000000011\n",
        "# becomes\n",
        "# 12 = 0000000000001100\n",
        "\n",
        "# Decimal numbers and their binary values:\n",
        "#  8 = 0000000000001000\n",
        "#  9 = 0000000000001001\n",
        "# 10 = 0000000000001010\n",
        "# 11 = 0000000000001011\n",
        "# 12 = 0000000000001100\n"
      ],
      "metadata": {
        "id": "fxhEvO0F6NJ4"
      },
      "execution_count": null,
      "outputs": []
    },
    {
      "cell_type": "code",
      "source": [
        "print(8 >> 2)\n",
        "\n",
        "\n",
        "# The >> operator moves each bit the specified number of times to the right. Empty holes at the left are filled with 0's.\n",
        "\n",
        "# If you move each bit 2 times to the right, 8 becomes 2:\n",
        "#  8 = 0000000000001000\n",
        "# becomes\n",
        "#  2 = 0000000000000010"
      ],
      "metadata": {
        "colab": {
          "base_uri": "https://localhost:8080/"
        },
        "id": "foygAh516NHL",
        "outputId": "e4e5a0e0-dcd5-4854-b5df-b726ff3f2dc3"
      },
      "execution_count": null,
      "outputs": [
        {
          "output_type": "stream",
          "name": "stdout",
          "text": [
            "2\n"
          ]
        }
      ]
    },
    {
      "cell_type": "code",
      "source": [
        "print((10 + 5) - (5 + 3))"
      ],
      "metadata": {
        "colab": {
          "base_uri": "https://localhost:8080/"
        },
        "id": "1dbkQgHd6NE2",
        "outputId": "c0dc740b-af43-4637-b44a-3584e578084a"
      },
      "execution_count": null,
      "outputs": [
        {
          "output_type": "stream",
          "name": "stdout",
          "text": [
            "7\n"
          ]
        }
      ]
    },
    {
      "cell_type": "code",
      "source": [
        "print(100 + 5 * 3)"
      ],
      "metadata": {
        "colab": {
          "base_uri": "https://localhost:8080/"
        },
        "id": "F9Tx7_T16NCs",
        "outputId": "2740bc13-046c-4526-99d2-86df6703971c"
      },
      "execution_count": null,
      "outputs": [
        {
          "output_type": "stream",
          "name": "stdout",
          "text": [
            "115\n"
          ]
        }
      ]
    },
    {
      "cell_type": "code",
      "source": [
        "print(100 - 3 ** 3)"
      ],
      "metadata": {
        "colab": {
          "base_uri": "https://localhost:8080/"
        },
        "id": "T6_0ihqN6NAG",
        "outputId": "ccdb7bbf-fdd4-4606-899f-ff5fb3116a1f"
      },
      "execution_count": null,
      "outputs": [
        {
          "output_type": "stream",
          "name": "stdout",
          "text": [
            "73\n"
          ]
        }
      ]
    },
    {
      "cell_type": "code",
      "source": [
        "print(100 + ~3)"
      ],
      "metadata": {
        "colab": {
          "base_uri": "https://localhost:8080/"
        },
        "id": "_QlG09nt6M9Y",
        "outputId": "778bd78c-73df-486b-857f-3d4619460924"
      },
      "execution_count": null,
      "outputs": [
        {
          "output_type": "stream",
          "name": "stdout",
          "text": [
            "96\n"
          ]
        }
      ]
    },
    {
      "cell_type": "code",
      "source": [
        "print(100 + 5 * 3)"
      ],
      "metadata": {
        "colab": {
          "base_uri": "https://localhost:8080/"
        },
        "id": "zuF-d7YN6M6i",
        "outputId": "3713287e-ded5-4916-e033-a7a006f191e2"
      },
      "execution_count": null,
      "outputs": [
        {
          "output_type": "stream",
          "name": "stdout",
          "text": [
            "115\n"
          ]
        }
      ]
    },
    {
      "cell_type": "code",
      "source": [
        "print(8 >> 4 - 2)"
      ],
      "metadata": {
        "colab": {
          "base_uri": "https://localhost:8080/"
        },
        "id": "huMdiVD26M2w",
        "outputId": "a4fa076c-3c9d-43bc-ba96-61aa07ee1c01"
      },
      "execution_count": null,
      "outputs": [
        {
          "output_type": "stream",
          "name": "stdout",
          "text": [
            "2\n"
          ]
        }
      ]
    },
    {
      "cell_type": "code",
      "source": [
        "print(6 & 2 + 1)"
      ],
      "metadata": {
        "colab": {
          "base_uri": "https://localhost:8080/"
        },
        "id": "nvB3iD2e6M0N",
        "outputId": "df4d9ac1-af7b-43f7-90e5-ac6688984fd7"
      },
      "execution_count": null,
      "outputs": [
        {
          "output_type": "stream",
          "name": "stdout",
          "text": [
            "2\n"
          ]
        }
      ]
    },
    {
      "cell_type": "code",
      "source": [
        "print(8 >> 4 - 2)"
      ],
      "metadata": {
        "colab": {
          "base_uri": "https://localhost:8080/"
        },
        "id": "qbJjRgI76Mxd",
        "outputId": "ed08a891-b35b-48f6-ba7e-d8c640d36a61"
      },
      "execution_count": null,
      "outputs": [
        {
          "output_type": "stream",
          "name": "stdout",
          "text": [
            "2\n"
          ]
        }
      ]
    },
    {
      "cell_type": "code",
      "source": [
        "print(6 | 2 + 1)"
      ],
      "metadata": {
        "colab": {
          "base_uri": "https://localhost:8080/"
        },
        "id": "1O8EX7xD6Mu2",
        "outputId": "aa7ad622-ccc3-4204-f4a2-fc1922f838d5"
      },
      "execution_count": null,
      "outputs": [
        {
          "output_type": "stream",
          "name": "stdout",
          "text": [
            "7\n"
          ]
        }
      ]
    },
    {
      "cell_type": "code",
      "source": [
        "print(5 == 4 + 1)"
      ],
      "metadata": {
        "colab": {
          "base_uri": "https://localhost:8080/"
        },
        "id": "yANMATl86MsS",
        "outputId": "1ca1a8ba-de80-4213-d3b1-10b04bc54f9a"
      },
      "execution_count": null,
      "outputs": [
        {
          "output_type": "stream",
          "name": "stdout",
          "text": [
            "True\n"
          ]
        }
      ]
    },
    {
      "cell_type": "code",
      "source": [
        "print(not 5 == 5)"
      ],
      "metadata": {
        "colab": {
          "base_uri": "https://localhost:8080/"
        },
        "id": "McJkPA7H6MqD",
        "outputId": "f0aaae84-7e0d-4373-a7bb-ff0e19a6266c"
      },
      "execution_count": null,
      "outputs": [
        {
          "output_type": "stream",
          "name": "stdout",
          "text": [
            "False\n"
          ]
        }
      ]
    },
    {
      "cell_type": "code",
      "source": [
        "print(1 or 2 and 3)"
      ],
      "metadata": {
        "colab": {
          "base_uri": "https://localhost:8080/"
        },
        "id": "VxJ7zzA46Mno",
        "outputId": "93b28f36-4eaf-4373-f0cd-2a1a70915201"
      },
      "execution_count": null,
      "outputs": [
        {
          "output_type": "stream",
          "name": "stdout",
          "text": [
            "1\n"
          ]
        }
      ]
    },
    {
      "cell_type": "code",
      "source": [
        "print(4 or 5 + 10 or 8)"
      ],
      "metadata": {
        "colab": {
          "base_uri": "https://localhost:8080/"
        },
        "id": "8-bYSFSy8r9U",
        "outputId": "6993c157-3fe3-4e14-fde9-89edaa81f80d"
      },
      "execution_count": null,
      "outputs": [
        {
          "output_type": "stream",
          "name": "stdout",
          "text": [
            "4\n"
          ]
        }
      ]
    },
    {
      "cell_type": "code",
      "source": [
        "print(5 + 4 - 7 + 3)"
      ],
      "metadata": {
        "colab": {
          "base_uri": "https://localhost:8080/"
        },
        "id": "iSIvsbfL8xg9",
        "outputId": "fdac9c33-434d-432b-f05f-fd85ef51be08"
      },
      "execution_count": null,
      "outputs": [
        {
          "output_type": "stream",
          "name": "stdout",
          "text": [
            "5\n"
          ]
        }
      ]
    }
  ]
}