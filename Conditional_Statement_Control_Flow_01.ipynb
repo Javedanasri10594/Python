{
  "nbformat": 4,
  "nbformat_minor": 0,
  "metadata": {
    "colab": {
      "provenance": []
    },
    "kernelspec": {
      "name": "python3",
      "display_name": "Python 3"
    },
    "language_info": {
      "name": "python"
    }
  },
  "cells": [
    {
      "cell_type": "code",
      "execution_count": null,
      "metadata": {
        "id": "w7Qonvrsw_-m"
      },
      "outputs": [],
      "source": [
        "# Equals: a == b\n",
        "# Not Equals: a != b\n",
        "# Less than: a < b\n",
        "# Less than or equal to: a <= b\n",
        "# Greater than: a > b\n",
        "# Greater than or equal to: a >= b"
      ]
    },
    {
      "cell_type": "code",
      "source": [
        "a= 50\n",
        "b=20\n",
        "if a > b:\n",
        "  print(\"a is gerater then b\",a)"
      ],
      "metadata": {
        "colab": {
          "base_uri": "https://localhost:8080/"
        },
        "id": "1VEfr-BzxZ0X",
        "outputId": "164a3189-d705-413a-d6fd-37b8799e2be7"
      },
      "execution_count": 4,
      "outputs": [
        {
          "output_type": "stream",
          "name": "stdout",
          "text": [
            "a is gerater then b 50\n"
          ]
        }
      ]
    },
    {
      "cell_type": "code",
      "source": [
        "a = 33\n",
        "b = 200\n",
        "if b > a:\n",
        "print(\"b is greater than a\") # you will get an error"
      ],
      "metadata": {
        "colab": {
          "base_uri": "https://localhost:8080/",
          "height": 140
        },
        "id": "RLp1gBc-xZxf",
        "outputId": "601a7bc0-3847-4e4d-fd15-a4c500241a42"
      },
      "execution_count": 5,
      "outputs": [
        {
          "output_type": "error",
          "ename": "IndentationError",
          "evalue": "ignored",
          "traceback": [
            "\u001b[0;36m  File \u001b[0;32m\"<ipython-input-5-4276c1871af7>\"\u001b[0;36m, line \u001b[0;32m4\u001b[0m\n\u001b[0;31m    print(\"b is greater than a\") # you will get an error\u001b[0m\n\u001b[0m    ^\u001b[0m\n\u001b[0;31mIndentationError\u001b[0m\u001b[0;31m:\u001b[0m expected an indented block after 'if' statement on line 3\n"
          ]
        }
      ]
    },
    {
      "cell_type": "code",
      "source": [
        "a=50\n",
        "b=35\n",
        "\n",
        "if a > b:\n",
        "  print(\"a is grater\" )"
      ],
      "metadata": {
        "colab": {
          "base_uri": "https://localhost:8080/"
        },
        "id": "gZPdT3pfxZu2",
        "outputId": "46b86066-bfc3-41d6-a11b-9c080ae2e9f9"
      },
      "execution_count": 6,
      "outputs": [
        {
          "output_type": "stream",
          "name": "stdout",
          "text": [
            "a is grater\n"
          ]
        }
      ]
    },
    {
      "cell_type": "code",
      "source": [
        "a=50\n",
        "b=35\n",
        "\n",
        "if a > b:\n",
        "  print(\"a is grater\" )\n",
        "else:\n",
        "  print(\"b is grater\")"
      ],
      "metadata": {
        "colab": {
          "base_uri": "https://localhost:8080/"
        },
        "id": "yyF_hD7yxZsD",
        "outputId": "a8eedb85-f4ae-4725-ceeb-9a5267953669"
      },
      "execution_count": 7,
      "outputs": [
        {
          "output_type": "stream",
          "name": "stdout",
          "text": [
            "a is grater\n"
          ]
        }
      ]
    },
    {
      "cell_type": "code",
      "source": [
        "a=50\n",
        "b=150\n",
        "\n",
        "if a > b:\n",
        "  print(\"a is grater\" )\n",
        "else:\n",
        "  print(\"b is grater\")"
      ],
      "metadata": {
        "colab": {
          "base_uri": "https://localhost:8080/"
        },
        "id": "a8DBmp0qxZpW",
        "outputId": "658e624a-d4c9-4016-f00e-986155e8f598"
      },
      "execution_count": 8,
      "outputs": [
        {
          "output_type": "stream",
          "name": "stdout",
          "text": [
            "b is grater\n"
          ]
        }
      ]
    },
    {
      "cell_type": "code",
      "source": [
        "a=500\n",
        "b=150\n",
        "\n",
        "if a > b:\n",
        "  print(\"a is grater\" )\n",
        "else:\n",
        "  print(\"b is grater\")"
      ],
      "metadata": {
        "colab": {
          "base_uri": "https://localhost:8080/"
        },
        "id": "ZzcnUrwWxZmk",
        "outputId": "2b540b81-1572-4a58-9eae-e449604a305c"
      },
      "execution_count": 9,
      "outputs": [
        {
          "output_type": "stream",
          "name": "stdout",
          "text": [
            "a is grater\n"
          ]
        }
      ]
    },
    {
      "cell_type": "code",
      "source": [
        "a=501\n",
        "b=1500\n",
        "\n",
        "if a > b:\n",
        "  print(\"a is grater\" )\n",
        "else:\n",
        "  print(\"b is grater\")"
      ],
      "metadata": {
        "colab": {
          "base_uri": "https://localhost:8080/"
        },
        "id": "hjVxcBj4xZj0",
        "outputId": "1662f4cb-d1b9-4b3f-bdf9-3a93f99fab70"
      },
      "execution_count": 10,
      "outputs": [
        {
          "output_type": "stream",
          "name": "stdout",
          "text": [
            "b is grater\n"
          ]
        }
      ]
    },
    {
      "cell_type": "code",
      "source": [
        "a=1500\n",
        "b=1500\n",
        "\n",
        "if a > b:\n",
        "  print(\"a is grater\" )\n",
        "elif b > a:\n",
        "  print(\"b is grater\")\n",
        "else:\n",
        "  print(\"a is equal to b\")"
      ],
      "metadata": {
        "colab": {
          "base_uri": "https://localhost:8080/"
        },
        "id": "COVVIdzO0fa3",
        "outputId": "2b920851-ac20-4430-e24f-b683d878cb0c"
      },
      "execution_count": 11,
      "outputs": [
        {
          "output_type": "stream",
          "name": "stdout",
          "text": [
            "a is equal to b\n"
          ]
        }
      ]
    },
    {
      "cell_type": "code",
      "source": [
        "a=250\n",
        "b=500\n",
        "\n",
        "if a > b:\n",
        "  print(\"a is grater\" )\n",
        "elif b > a:\n",
        "  print(\"b is grater\")\n",
        "else:\n",
        "  print(\"a is equal to b\")"
      ],
      "metadata": {
        "colab": {
          "base_uri": "https://localhost:8080/"
        },
        "id": "-1aw12m40fXt",
        "outputId": "cf231738-753d-4402-b17d-ce4dbd113c84"
      },
      "execution_count": 12,
      "outputs": [
        {
          "output_type": "stream",
          "name": "stdout",
          "text": [
            "b is grater\n"
          ]
        }
      ]
    },
    {
      "cell_type": "code",
      "source": [
        "a=250\n",
        "b=100\n",
        "\n",
        "if a > b:\n",
        "  print(\"a is grater\" )\n",
        "elif b > a:\n",
        "  print(\"b is grater\")\n",
        "else:\n",
        "  print(\"a is equal to b\")"
      ],
      "metadata": {
        "colab": {
          "base_uri": "https://localhost:8080/"
        },
        "id": "upHahuZg0fU8",
        "outputId": "92e1e58b-4281-4a00-a8f7-913754f7ec07"
      },
      "execution_count": 13,
      "outputs": [
        {
          "output_type": "stream",
          "name": "stdout",
          "text": [
            "a is grater\n"
          ]
        }
      ]
    },
    {
      "cell_type": "code",
      "source": [
        "a = 330\n",
        "b = 330\n",
        "\n",
        "print(\"A\") if a > b else print(\"=\") if a == b else print(\"B\")"
      ],
      "metadata": {
        "colab": {
          "base_uri": "https://localhost:8080/"
        },
        "id": "UoZ62Pko0fSe",
        "outputId": "3c621da2-3cba-4be3-b82a-ecad3bc80f67"
      },
      "execution_count": 14,
      "outputs": [
        {
          "output_type": "stream",
          "name": "stdout",
          "text": [
            "=\n"
          ]
        }
      ]
    },
    {
      "cell_type": "code",
      "source": [
        "a = 200\n",
        "b = 33\n",
        "c = 500\n",
        "if a > b and c > a:\n",
        "  print(\"Both conditions are True\")"
      ],
      "metadata": {
        "colab": {
          "base_uri": "https://localhost:8080/"
        },
        "id": "RuJT_n6D0fPx",
        "outputId": "b56765f7-01a9-4bbe-a6ad-66b29e08eb7d"
      },
      "execution_count": 15,
      "outputs": [
        {
          "output_type": "stream",
          "name": "stdout",
          "text": [
            "Both conditions are True\n"
          ]
        }
      ]
    },
    {
      "cell_type": "code",
      "source": [
        "a = 200\n",
        "b = 33\n",
        "c = 500\n",
        "if a > b or a > c:\n",
        "  print(\"At least one of the conditions is True\")"
      ],
      "metadata": {
        "colab": {
          "base_uri": "https://localhost:8080/"
        },
        "id": "Lr2zSH4r0fNG",
        "outputId": "56c91cac-d6db-429f-a882-3a65fe16c8cf"
      },
      "execution_count": 16,
      "outputs": [
        {
          "output_type": "stream",
          "name": "stdout",
          "text": [
            "At least one of the conditions is True\n"
          ]
        }
      ]
    },
    {
      "cell_type": "code",
      "source": [
        "a = 33\n",
        "b = 200\n",
        "if not a > b:\n",
        "  print(\"a is NOT greater than b\")"
      ],
      "metadata": {
        "colab": {
          "base_uri": "https://localhost:8080/"
        },
        "id": "Fa_42oWC0fKr",
        "outputId": "341e22ae-0fa6-4637-b4f0-9e201a4d848a"
      },
      "execution_count": 17,
      "outputs": [
        {
          "output_type": "stream",
          "name": "stdout",
          "text": [
            "a is NOT greater than b\n"
          ]
        }
      ]
    },
    {
      "cell_type": "code",
      "source": [
        "a = 33\n",
        "b = 200\n",
        "\n",
        "if b > a:\n",
        "  pass"
      ],
      "metadata": {
        "id": "Tw7_K_k70fHx"
      },
      "execution_count": 18,
      "outputs": []
    },
    {
      "cell_type": "code",
      "source": [],
      "metadata": {
        "id": "BZn3GpkQ0fFH"
      },
      "execution_count": null,
      "outputs": []
    },
    {
      "cell_type": "code",
      "source": [],
      "metadata": {
        "id": "uZh-exFI0fCf"
      },
      "execution_count": null,
      "outputs": []
    }
  ]
}