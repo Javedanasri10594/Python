{
  "nbformat": 4,
  "nbformat_minor": 0,
  "metadata": {
    "colab": {
      "provenance": []
    },
    "kernelspec": {
      "name": "python3",
      "display_name": "Python 3"
    },
    "language_info": {
      "name": "python"
    }
  },
  "cells": [
    {
      "cell_type": "code",
      "execution_count": 2,
      "metadata": {
        "colab": {
          "base_uri": "https://localhost:8080/"
        },
        "id": "jw8C02P6agjf",
        "outputId": "259d0a39-da2a-447f-e9f9-61e4ba707186"
      },
      "outputs": [
        {
          "output_type": "stream",
          "name": "stdout",
          "text": [
            "{'brand': 'Ford', 'model': 'Mustang', 'year': 1964}\n"
          ]
        }
      ],
      "source": [
        "my_dict = {\"brand\": \"Ford\",\"model\": \"Mustang\",\"year\": 1964}\n",
        "\n",
        "print(my_dict)"
      ]
    },
    {
      "cell_type": "code",
      "source": [
        "memo={\"chips\":20,\"Note book\":50,\"Pen\":20,\"Cold drink\":50}"
      ],
      "metadata": {
        "id": "4rEBNf-ga4zU"
      },
      "execution_count": 3,
      "outputs": []
    },
    {
      "cell_type": "code",
      "source": [
        "memo[\"Pen\"]=25\n",
        "memo[\"Cold drink\"]=100"
      ],
      "metadata": {
        "id": "m57PM-6ha4wL"
      },
      "execution_count": 6,
      "outputs": []
    },
    {
      "cell_type": "code",
      "source": [
        "print(memo)"
      ],
      "metadata": {
        "colab": {
          "base_uri": "https://localhost:8080/"
        },
        "id": "Y6CSYq5ba4tJ",
        "outputId": "cded2ff5-9dfd-4ca0-9f55-b67bde183b4d"
      },
      "execution_count": 7,
      "outputs": [
        {
          "output_type": "stream",
          "name": "stdout",
          "text": [
            "{'chips': 20, 'Note book': 50, 'Pen': 25, 'Cold drink': 100}\n"
          ]
        }
      ]
    },
    {
      "cell_type": "code",
      "source": [
        "memo[\"Ice Cream\"]=80"
      ],
      "metadata": {
        "id": "sDhPIh9Sa4pr"
      },
      "execution_count": 8,
      "outputs": []
    },
    {
      "cell_type": "code",
      "source": [
        "print(memo)"
      ],
      "metadata": {
        "colab": {
          "base_uri": "https://localhost:8080/"
        },
        "id": "TYMSWVGEa4h5",
        "outputId": "dbac2a00-2c5d-401f-fa82-e04526c4b221"
      },
      "execution_count": 9,
      "outputs": [
        {
          "output_type": "stream",
          "name": "stdout",
          "text": [
            "{'chips': 20, 'Note book': 50, 'Pen': 25, 'Cold drink': 100, 'Ice Cream': 80}\n"
          ]
        }
      ]
    },
    {
      "cell_type": "code",
      "source": [
        "print(len(memo))"
      ],
      "metadata": {
        "colab": {
          "base_uri": "https://localhost:8080/"
        },
        "id": "mb6YaRHqa4bV",
        "outputId": "165e78b3-35eb-4432-beb3-50455c8754dd"
      },
      "execution_count": 10,
      "outputs": [
        {
          "output_type": "stream",
          "name": "stdout",
          "text": [
            "5\n"
          ]
        }
      ]
    },
    {
      "cell_type": "code",
      "source": [
        "thisdict = {\n",
        "  \"brand\": \"Ford\",\n",
        "  \"electric\": False,\n",
        "  \"year\": 1964,\n",
        "  \"colors\": [\"red\", \"white\", \"blue\"]\n",
        "}\n",
        "\n",
        "print(thisdict)"
      ],
      "metadata": {
        "colab": {
          "base_uri": "https://localhost:8080/"
        },
        "id": "2NWlGFuIa4Xx",
        "outputId": "ebdb0ee3-8e03-48ff-ada6-88b00f95ce04"
      },
      "execution_count": 11,
      "outputs": [
        {
          "output_type": "stream",
          "name": "stdout",
          "text": [
            "{'brand': 'Ford', 'electric': False, 'year': 1964, 'colors': ['red', 'white', 'blue']}\n"
          ]
        }
      ]
    },
    {
      "cell_type": "code",
      "source": [
        "y = {\n",
        "  \"brand\": \"Ford\",\n",
        "  \"model\": \"Mustang\",\n",
        "  \"year\": 1964\n",
        "}\n",
        "x = thisdict[\"model\"]"
      ],
      "metadata": {
        "id": "7HTIr0FKa4TT"
      },
      "execution_count": 13,
      "outputs": []
    },
    {
      "cell_type": "code",
      "source": [
        "x = y.get(\"model\")"
      ],
      "metadata": {
        "id": "KbS5eLVXc3S1"
      },
      "execution_count": 14,
      "outputs": []
    },
    {
      "cell_type": "code",
      "source": [
        "print(x)"
      ],
      "metadata": {
        "colab": {
          "base_uri": "https://localhost:8080/"
        },
        "id": "HHNDmqiOc3P7",
        "outputId": "729d4864-0201-43b8-b706-9f02cacbb977"
      },
      "execution_count": 15,
      "outputs": [
        {
          "output_type": "stream",
          "name": "stdout",
          "text": [
            "Mustang\n"
          ]
        }
      ]
    },
    {
      "cell_type": "code",
      "source": [
        "x=y.keys()"
      ],
      "metadata": {
        "id": "6fHsh0wxc3NT"
      },
      "execution_count": 16,
      "outputs": []
    },
    {
      "cell_type": "code",
      "source": [
        "print(x)"
      ],
      "metadata": {
        "colab": {
          "base_uri": "https://localhost:8080/"
        },
        "id": "r-rlazMzc3K6",
        "outputId": "54662345-cbce-4466-b5f7-2fbaad913635"
      },
      "execution_count": 17,
      "outputs": [
        {
          "output_type": "stream",
          "name": "stdout",
          "text": [
            "dict_keys(['brand', 'model', 'year'])\n"
          ]
        }
      ]
    },
    {
      "cell_type": "code",
      "source": [
        "car = {\n",
        "\"brand\": \"Ford\",\n",
        "\"model\": \"Mustang\",\n",
        "\"year\": 1964\n",
        "}\n",
        "\n",
        "x = car.keys()\n",
        "\n",
        "print(x) #before the change\n",
        "\n",
        "car[\"color\"] = \"white\"\n",
        "\n",
        "print(x) #after the change"
      ],
      "metadata": {
        "colab": {
          "base_uri": "https://localhost:8080/"
        },
        "id": "xLctaXmVc3Ib",
        "outputId": "db4c62cd-4fda-4920-890f-1ed6287e3346"
      },
      "execution_count": 18,
      "outputs": [
        {
          "output_type": "stream",
          "name": "stdout",
          "text": [
            "dict_keys(['brand', 'model', 'year'])\n",
            "dict_keys(['brand', 'model', 'year', 'color'])\n"
          ]
        }
      ]
    },
    {
      "cell_type": "code",
      "source": [
        "thisdict = {\n",
        "  \"brand\": \"Ford\",\n",
        "  \"model\": \"Mustang\",\n",
        "  \"year\": 1964\n",
        "}\n",
        "\n",
        "x = thisdict.items()\n",
        "\n",
        "print(x)"
      ],
      "metadata": {
        "colab": {
          "base_uri": "https://localhost:8080/"
        },
        "id": "eNUPn4pIc3GI",
        "outputId": "f676f09c-76e9-45a2-a703-742bfe554022"
      },
      "execution_count": 20,
      "outputs": [
        {
          "output_type": "stream",
          "name": "stdout",
          "text": [
            "dict_items([('brand', 'Ford'), ('model', 'Mustang'), ('year', 1964)])\n"
          ]
        }
      ]
    },
    {
      "cell_type": "code",
      "source": [
        "car = {\n",
        "\"brand\": \"Ford\",\n",
        "\"model\": \"Mustang\",\n",
        "\"year\": 1964\n",
        "}\n",
        "\n",
        "x = car.items()\n",
        "\n",
        "print(x) #before the change\n",
        "\n",
        "car[\"year\"] = 2020\n",
        "\n",
        "print(x) #after the change"
      ],
      "metadata": {
        "colab": {
          "base_uri": "https://localhost:8080/"
        },
        "id": "F_Dl2puFc3EY",
        "outputId": "7b54a8bd-2b3c-4266-c422-166c7a8baee0"
      },
      "execution_count": 21,
      "outputs": [
        {
          "output_type": "stream",
          "name": "stdout",
          "text": [
            "dict_items([('brand', 'Ford'), ('model', 'Mustang'), ('year', 1964)])\n",
            "dict_items([('brand', 'Ford'), ('model', 'Mustang'), ('year', 2020)])\n"
          ]
        }
      ]
    },
    {
      "cell_type": "code",
      "source": [
        "x= car.items()\n",
        "print(x)\n",
        "car[\"color\"]=\"red\"\n",
        "print(x)"
      ],
      "metadata": {
        "colab": {
          "base_uri": "https://localhost:8080/"
        },
        "id": "rPlWkzahc3BB",
        "outputId": "c316a90e-7166-458f-8ae8-ae5d5912580b"
      },
      "execution_count": 22,
      "outputs": [
        {
          "output_type": "stream",
          "name": "stdout",
          "text": [
            "dict_items([('brand', 'Ford'), ('model', 'Mustang'), ('year', 2020)])\n",
            "dict_items([('brand', 'Ford'), ('model', 'Mustang'), ('year', 2020), ('color', 'red')])\n"
          ]
        }
      ]
    },
    {
      "cell_type": "code",
      "source": [
        "my_dict = {\n",
        "  \"brand\": \"Maruti suzuki\",\n",
        "  \"model\": \"swift\",\n",
        "  \"year\": 2022\n",
        "}\n",
        "if \"model\" in my_dict:\n",
        "  print(\"Yes, 'model' is one of the keys in the thisdict dictionary\")"
      ],
      "metadata": {
        "colab": {
          "base_uri": "https://localhost:8080/"
        },
        "id": "Z2AeCDIDfXGK",
        "outputId": "4aa789b7-dc02-4b32-bb1e-f68f33020fec"
      },
      "execution_count": 25,
      "outputs": [
        {
          "output_type": "stream",
          "name": "stdout",
          "text": [
            "Yes, 'model' is one of the keys in the thisdict dictionary\n"
          ]
        }
      ]
    },
    {
      "cell_type": "code",
      "source": [
        "memo={\"chips\":20,\"Note book\":50,\"Pen\":20,\"Cold drink\":50,\"kitkate\":30,\"Ice Cream\":20}"
      ],
      "metadata": {
        "id": "vkZOwHiQc2-R"
      },
      "execution_count": 26,
      "outputs": []
    },
    {
      "cell_type": "code",
      "source": [
        "memo.pop(\"chips\")"
      ],
      "metadata": {
        "colab": {
          "base_uri": "https://localhost:8080/"
        },
        "id": "8V1gGJOrc27i",
        "outputId": "386c6167-e2f3-4f72-ac9c-5cd7fa91d76e"
      },
      "execution_count": 33,
      "outputs": [
        {
          "output_type": "execute_result",
          "data": {
            "text/plain": [
              "20"
            ]
          },
          "metadata": {},
          "execution_count": 33
        }
      ]
    },
    {
      "cell_type": "code",
      "source": [
        "print(memo)"
      ],
      "metadata": {
        "colab": {
          "base_uri": "https://localhost:8080/"
        },
        "id": "LYGQ5Ur5idOl",
        "outputId": "375bd036-c847-4a38-f83f-69b0fef91baf"
      },
      "execution_count": 34,
      "outputs": [
        {
          "output_type": "stream",
          "name": "stdout",
          "text": [
            "{'Note book': 50, 'Pen': 20, 'Cold drink': 50, 'kitkate': 30}\n"
          ]
        }
      ]
    },
    {
      "cell_type": "code",
      "source": [
        "memo.clear()"
      ],
      "metadata": {
        "id": "9IuJrjZGh2HP"
      },
      "execution_count": 35,
      "outputs": []
    },
    {
      "cell_type": "code",
      "source": [
        "print(memo)"
      ],
      "metadata": {
        "colab": {
          "base_uri": "https://localhost:8080/"
        },
        "id": "5etaS-uEh2DC",
        "outputId": "b0e705e4-2701-443a-cd31-494bcf15bb88"
      },
      "execution_count": 36,
      "outputs": [
        {
          "output_type": "stream",
          "name": "stdout",
          "text": [
            "{}\n"
          ]
        }
      ]
    },
    {
      "cell_type": "code",
      "source": [
        "new_memo={\"chips\":15,\"Note book\":30,\"Pen\":30,\"Cold drink\":95,\"kitkate\":50,\"Ice Cream\":50}\n",
        "for i in new_memo:\n",
        "  print(i)"
      ],
      "metadata": {
        "colab": {
          "base_uri": "https://localhost:8080/"
        },
        "id": "a1D136r6h17m",
        "outputId": "ed206bcd-3faf-4f99-dda2-f33fb221f1ca"
      },
      "execution_count": 38,
      "outputs": [
        {
          "output_type": "stream",
          "name": "stdout",
          "text": [
            "chips\n",
            "Note book\n",
            "Pen\n",
            "Cold drink\n",
            "kitkate\n",
            "Ice Cream\n"
          ]
        }
      ]
    },
    {
      "cell_type": "code",
      "source": [
        "new_memo_01={\"Note book\":30,\"Pen\":30,\"Cold drink\":95,\"kitkate\":50,\"Ice Cream\":50}\n",
        "for x in new_memo_01:\n",
        "  print(new_memo_01[x])"
      ],
      "metadata": {
        "colab": {
          "base_uri": "https://localhost:8080/"
        },
        "id": "zmTRLpOFh10N",
        "outputId": "f231b582-a824-4f8a-e7f1-5ded546ae610"
      },
      "execution_count": 45,
      "outputs": [
        {
          "output_type": "stream",
          "name": "stdout",
          "text": [
            "30\n",
            "30\n",
            "95\n",
            "50\n",
            "50\n"
          ]
        }
      ]
    },
    {
      "cell_type": "code",
      "source": [
        "thisdict =\t{\n",
        "  \"brand\": \"Ford\",\n",
        "  \"model\": \"Mustang\",\n",
        "  \"year\": 1964\n",
        "}\n",
        "for x in thisdict:\n",
        "  print(thisdict[x])"
      ],
      "metadata": {
        "colab": {
          "base_uri": "https://localhost:8080/"
        },
        "id": "emeXv45YkkXu",
        "outputId": "8a210402-a4ad-4e4a-f998-6b4419c08100"
      },
      "execution_count": 44,
      "outputs": [
        {
          "output_type": "stream",
          "name": "stdout",
          "text": [
            "Ford\n",
            "Mustang\n",
            "1964\n"
          ]
        }
      ]
    },
    {
      "cell_type": "code",
      "source": [
        "new_memo_02={\"Note book\":30,\"Pen\":30,\"Cold drink\":95,\"kitkate\":50,\"Ice Cream\":50}\n",
        "for x in new_memo_02.values():\n",
        "  print(x)"
      ],
      "metadata": {
        "colab": {
          "base_uri": "https://localhost:8080/"
        },
        "id": "qAgJTWKEkkUE",
        "outputId": "9b676aab-72c5-4d45-9d45-52c56a85eda1"
      },
      "execution_count": 46,
      "outputs": [
        {
          "output_type": "stream",
          "name": "stdout",
          "text": [
            "30\n",
            "30\n",
            "95\n",
            "50\n",
            "50\n"
          ]
        }
      ]
    },
    {
      "cell_type": "code",
      "source": [
        "new_memo_02={\"Note book\":30,\"Pen\":30,\"Cold drink\":95,\"kitkate\":50,\"Ice Cream\":50}\n",
        "for x in new_memo_02.keys():\n",
        "  print(x)"
      ],
      "metadata": {
        "colab": {
          "base_uri": "https://localhost:8080/"
        },
        "id": "H3Oxa4_PkkO4",
        "outputId": "680d1a4d-5460-4fcb-e466-f26395da8dc1"
      },
      "execution_count": 47,
      "outputs": [
        {
          "output_type": "stream",
          "name": "stdout",
          "text": [
            "Note book\n",
            "Pen\n",
            "Cold drink\n",
            "kitkate\n",
            "Ice Cream\n"
          ]
        }
      ]
    },
    {
      "cell_type": "code",
      "source": [
        "for x,y in new_memo_02.items():\n",
        "  print(x,y)"
      ],
      "metadata": {
        "colab": {
          "base_uri": "https://localhost:8080/"
        },
        "id": "BERdXq6LkkMX",
        "outputId": "0ff1d6ea-f4fd-499e-f179-0dd457563913"
      },
      "execution_count": 48,
      "outputs": [
        {
          "output_type": "stream",
          "name": "stdout",
          "text": [
            "Note book 30\n",
            "Pen 30\n",
            "Cold drink 95\n",
            "kitkate 50\n",
            "Ice Cream 50\n"
          ]
        }
      ]
    },
    {
      "cell_type": "code",
      "source": [
        "my_dict_01=new_memo_02.copy()\n",
        "print(my_dict_01)"
      ],
      "metadata": {
        "colab": {
          "base_uri": "https://localhost:8080/"
        },
        "id": "qJuWjKErkkHN",
        "outputId": "1cfe0d61-a078-4144-c296-dd8946c4b743"
      },
      "execution_count": 49,
      "outputs": [
        {
          "output_type": "stream",
          "name": "stdout",
          "text": [
            "{'Note book': 30, 'Pen': 30, 'Cold drink': 95, 'kitkate': 50, 'Ice Cream': 50}\n"
          ]
        }
      ]
    },
    {
      "cell_type": "code",
      "source": [
        "my_dict_01=dict(new_memo_02)\n",
        "print(my_dict_01)"
      ],
      "metadata": {
        "colab": {
          "base_uri": "https://localhost:8080/"
        },
        "id": "U1pqOLQBkkEk",
        "outputId": "bb380fe2-73c5-482b-daa1-263acac02752"
      },
      "execution_count": 50,
      "outputs": [
        {
          "output_type": "stream",
          "name": "stdout",
          "text": [
            "{'Note book': 30, 'Pen': 30, 'Cold drink': 95, 'kitkate': 50, 'Ice Cream': 50}\n"
          ]
        }
      ]
    },
    {
      "cell_type": "code",
      "source": [
        "myfamily = {\n",
        "  \"child1\" : {\"name\" : \"Emil\",\"year\" : 2004},\"child2\" : {\"name\" : \"Tobias\",\"year\" : 2007},\"child3\" : {\"name\" : \"Linus\",\"year\" : 2011}\n",
        "}\n",
        "\n",
        "print(myfamily)"
      ],
      "metadata": {
        "colab": {
          "base_uri": "https://localhost:8080/"
        },
        "id": "d4q_ubBrkkCA",
        "outputId": "7c47e93b-39ca-4de4-d2d0-1c72b401f8dd"
      },
      "execution_count": 52,
      "outputs": [
        {
          "output_type": "stream",
          "name": "stdout",
          "text": [
            "{'child1': {'name': 'Emil', 'year': 2004}, 'child2': {'name': 'Tobias', 'year': 2007}, 'child3': {'name': 'Linus', 'year': 2011}}\n"
          ]
        }
      ]
    },
    {
      "cell_type": "code",
      "source": [
        "child1 = {\"name\" : \"Emil\",\"year\" : 2004}\n",
        "child2 = {\"name\" : \"Tobias\",\"year\" : 2007}\n",
        "child3 = {\"name\" : \"Linus\", \"year\" : 2011}\n",
        "\n",
        "myfamily = {\n",
        "  \"child1\" : child1,\n",
        "  \"child2\" : child2,\n",
        "  \"child3\" : child3\n",
        "}\n",
        "\n",
        "print(myfamily)"
      ],
      "metadata": {
        "colab": {
          "base_uri": "https://localhost:8080/"
        },
        "id": "xvX3etxcp-cK",
        "outputId": "523b9956-4d15-40db-c440-ff412bf291e7"
      },
      "execution_count": 53,
      "outputs": [
        {
          "output_type": "stream",
          "name": "stdout",
          "text": [
            "{'child1': {'name': 'Emil', 'year': 2004}, 'child2': {'name': 'Tobias', 'year': 2007}, 'child3': {'name': 'Linus', 'year': 2011}}\n"
          ]
        }
      ]
    },
    {
      "cell_type": "code",
      "source": [
        "print(myfamily[\"child2\"][\"name\"])"
      ],
      "metadata": {
        "colab": {
          "base_uri": "https://localhost:8080/"
        },
        "id": "tJblcvehp-ZJ",
        "outputId": "4188b37c-b470-483d-d9aa-848cbee718a6"
      },
      "execution_count": 54,
      "outputs": [
        {
          "output_type": "stream",
          "name": "stdout",
          "text": [
            "Tobias\n"
          ]
        }
      ]
    },
    {
      "cell_type": "code",
      "source": [],
      "metadata": {
        "id": "qgipuebhp-Wy"
      },
      "execution_count": null,
      "outputs": []
    },
    {
      "cell_type": "code",
      "source": [],
      "metadata": {
        "id": "rb2H9y-wp-UL"
      },
      "execution_count": null,
      "outputs": []
    },
    {
      "cell_type": "code",
      "source": [],
      "metadata": {
        "id": "JvF2W5bsp-RX"
      },
      "execution_count": null,
      "outputs": []
    },
    {
      "cell_type": "code",
      "source": [],
      "metadata": {
        "id": "UqCqIQeFp-Os"
      },
      "execution_count": null,
      "outputs": []
    },
    {
      "cell_type": "code",
      "source": [],
      "metadata": {
        "id": "RdJ5430Ap-MC"
      },
      "execution_count": null,
      "outputs": []
    }
  ]
}