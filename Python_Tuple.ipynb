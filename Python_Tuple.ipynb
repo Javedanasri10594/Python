{
  "nbformat": 4,
  "nbformat_minor": 0,
  "metadata": {
    "colab": {
      "provenance": []
    },
    "kernelspec": {
      "name": "python3",
      "display_name": "Python 3"
    },
    "language_info": {
      "name": "python"
    }
  },
  "cells": [
    {
      "cell_type": "code",
      "source": [
        "tuple_01=(\"ML\",\"DS\",\"DL\",\"NLP\",\"CV\",\"RNN\")"
      ],
      "metadata": {
        "id": "MOjfjKKBKeLZ"
      },
      "execution_count": 66,
      "outputs": []
    },
    {
      "cell_type": "code",
      "source": [
        "print(tuple_01,type(tuple_01))"
      ],
      "metadata": {
        "colab": {
          "base_uri": "https://localhost:8080/"
        },
        "id": "fbn_EUAk6OcR",
        "outputId": "ed54ead0-d8d0-4b8d-9fe4-adb4954e3d08"
      },
      "execution_count": 65,
      "outputs": [
        {
          "output_type": "stream",
          "name": "stdout",
          "text": [
            "('ML', 'DS', 'DL', 'NLP', 'CV', 'RNN') <class 'tuple'>\n"
          ]
        }
      ]
    },
    {
      "cell_type": "code",
      "source": [
        "tuple_02=(\"ML\",\"DS\",\"DL\",\"NLP\",\"CV\",\"RNN\",\"CV\",\"NLP\")"
      ],
      "metadata": {
        "id": "dpWnekX56OZR"
      },
      "execution_count": 5,
      "outputs": []
    },
    {
      "cell_type": "code",
      "source": [
        "print(tuple_02)"
      ],
      "metadata": {
        "colab": {
          "base_uri": "https://localhost:8080/"
        },
        "id": "gUmkc75q6OW9",
        "outputId": "709a3473-719a-495b-e02c-62efb5ec5dcb"
      },
      "execution_count": 6,
      "outputs": [
        {
          "output_type": "stream",
          "name": "stdout",
          "text": [
            "('ML', 'DS', 'DL', 'NLP', 'CV', 'RNN', 'CV', 'NLP')\n"
          ]
        }
      ]
    },
    {
      "cell_type": "code",
      "source": [
        "tuple_02[2]"
      ],
      "metadata": {
        "colab": {
          "base_uri": "https://localhost:8080/",
          "height": 36
        },
        "id": "fz-L5SvD6OUR",
        "outputId": "e7cf5ce0-03fa-4704-f0ef-8ef77b0119c4"
      },
      "execution_count": 7,
      "outputs": [
        {
          "output_type": "execute_result",
          "data": {
            "text/plain": [
              "'DL'"
            ],
            "application/vnd.google.colaboratory.intrinsic+json": {
              "type": "string"
            }
          },
          "metadata": {},
          "execution_count": 7
        }
      ]
    },
    {
      "cell_type": "code",
      "source": [
        "tuple_02[2:5]"
      ],
      "metadata": {
        "colab": {
          "base_uri": "https://localhost:8080/"
        },
        "id": "Z5inZqHC8YnI",
        "outputId": "5a7075a7-eeeb-4b49-a68f-e5496cfba810"
      },
      "execution_count": 22,
      "outputs": [
        {
          "output_type": "execute_result",
          "data": {
            "text/plain": [
              "('DL', 'NLP', 'CV')"
            ]
          },
          "metadata": {},
          "execution_count": 22
        }
      ]
    },
    {
      "cell_type": "code",
      "source": [
        "tuple_02[-5]"
      ],
      "metadata": {
        "colab": {
          "base_uri": "https://localhost:8080/",
          "height": 36
        },
        "id": "oogWlRNU8Yj5",
        "outputId": "90d794e3-e9ee-4952-9118-42a5df6d4018"
      },
      "execution_count": 23,
      "outputs": [
        {
          "output_type": "execute_result",
          "data": {
            "text/plain": [
              "'NLP'"
            ],
            "application/vnd.google.colaboratory.intrinsic+json": {
              "type": "string"
            }
          },
          "metadata": {},
          "execution_count": 23
        }
      ]
    },
    {
      "cell_type": "code",
      "source": [
        "tuple_02[0:4]"
      ],
      "metadata": {
        "colab": {
          "base_uri": "https://localhost:8080/"
        },
        "id": "kw5bROsS8h3c",
        "outputId": "029433cb-1172-4fda-ad91-9bbb12ae47b9"
      },
      "execution_count": 24,
      "outputs": [
        {
          "output_type": "execute_result",
          "data": {
            "text/plain": [
              "('ML', 'DS', 'DL', 'NLP')"
            ]
          },
          "metadata": {},
          "execution_count": 24
        }
      ]
    },
    {
      "cell_type": "code",
      "source": [
        "tuple_02[:3]"
      ],
      "metadata": {
        "colab": {
          "base_uri": "https://localhost:8080/"
        },
        "id": "CBu9kWrv8h0l",
        "outputId": "0e33101b-6196-4bde-80e0-ee8072c529c2"
      },
      "execution_count": 25,
      "outputs": [
        {
          "output_type": "execute_result",
          "data": {
            "text/plain": [
              "('ML', 'DS', 'DL')"
            ]
          },
          "metadata": {},
          "execution_count": 25
        }
      ]
    },
    {
      "cell_type": "code",
      "source": [
        "tuple_02[-3:]"
      ],
      "metadata": {
        "colab": {
          "base_uri": "https://localhost:8080/"
        },
        "id": "fv-K6GN_8hxJ",
        "outputId": "acb737c4-9179-459c-dc91-914c81693357"
      },
      "execution_count": 26,
      "outputs": [
        {
          "output_type": "execute_result",
          "data": {
            "text/plain": [
              "('RNN', 'CV', 'NLP')"
            ]
          },
          "metadata": {},
          "execution_count": 26
        }
      ]
    },
    {
      "cell_type": "code",
      "source": [
        "tuple_02[-5:-2]"
      ],
      "metadata": {
        "colab": {
          "base_uri": "https://localhost:8080/"
        },
        "id": "gMj2i_nz8hup",
        "outputId": "2d4ae80b-7d9d-4463-b956-e02694843cd3"
      },
      "execution_count": 27,
      "outputs": [
        {
          "output_type": "execute_result",
          "data": {
            "text/plain": [
              "('NLP', 'CV', 'RNN')"
            ]
          },
          "metadata": {},
          "execution_count": 27
        }
      ]
    },
    {
      "cell_type": "code",
      "source": [
        "print(len(tuple_02))"
      ],
      "metadata": {
        "colab": {
          "base_uri": "https://localhost:8080/"
        },
        "id": "aBTuIP1U6OR5",
        "outputId": "002b21f0-f9b6-42a2-e295-543c71a6ba7c"
      },
      "execution_count": 8,
      "outputs": [
        {
          "output_type": "stream",
          "name": "stdout",
          "text": [
            "8\n"
          ]
        }
      ]
    },
    {
      "cell_type": "code",
      "source": [
        "tuple_new = (\"apple\",)\n",
        "print(type(tuple_new))\n",
        "\n",
        "#NOT a tuple\n",
        "tuple_new = (\"apple\")\n",
        "print(type(tuple_new))"
      ],
      "metadata": {
        "colab": {
          "base_uri": "https://localhost:8080/"
        },
        "id": "IRGNCjsm6OPQ",
        "outputId": "32d847c4-f224-44e4-e77b-51669c4bcf29"
      },
      "execution_count": 10,
      "outputs": [
        {
          "output_type": "stream",
          "name": "stdout",
          "text": [
            "<class 'tuple'>\n",
            "<class 'str'>\n"
          ]
        }
      ]
    },
    {
      "cell_type": "code",
      "source": [
        "tuple1 = (\"apple\", \"banana\", \"cherry\")\n",
        "tuple2 = (1, 5, 7, 9, 3)\n",
        "tuple3 = (True, False, False)"
      ],
      "metadata": {
        "id": "31phtATb6OMJ"
      },
      "execution_count": 11,
      "outputs": []
    },
    {
      "cell_type": "code",
      "source": [
        "print(tuple1)\n",
        "print(tuple2)\n",
        "print(tuple3)"
      ],
      "metadata": {
        "colab": {
          "base_uri": "https://localhost:8080/"
        },
        "id": "q_eUen-A7q6J",
        "outputId": "a56decc6-6c6f-4d78-f62d-558586959990"
      },
      "execution_count": 14,
      "outputs": [
        {
          "output_type": "stream",
          "name": "stdout",
          "text": [
            "('abc', 34, True, 40, 'male')\n",
            "(1, 5, 7, 9, 3)\n",
            "(True, False, False)\n"
          ]
        }
      ]
    },
    {
      "cell_type": "code",
      "source": [
        "tuple1 = (\"abc\", 34, True, 40, \"male\")"
      ],
      "metadata": {
        "id": "H6O--yTF7jFX"
      },
      "execution_count": 15,
      "outputs": []
    },
    {
      "cell_type": "code",
      "source": [
        "print(tuple1)"
      ],
      "metadata": {
        "colab": {
          "base_uri": "https://localhost:8080/"
        },
        "id": "dglpHHvP7McR",
        "outputId": "8e4e5628-4887-4cc2-b19a-f65f705f457d"
      },
      "execution_count": 16,
      "outputs": [
        {
          "output_type": "stream",
          "name": "stdout",
          "text": [
            "('abc', 34, True, 40, 'male')\n"
          ]
        }
      ]
    },
    {
      "cell_type": "code",
      "source": [
        "New_tuple = tuple((\"apple\", \"banana\", \"cherry\")) # note the double round-brackets\n",
        "print(New_tuple)"
      ],
      "metadata": {
        "colab": {
          "base_uri": "https://localhost:8080/"
        },
        "id": "NFnTWTQD7MZH",
        "outputId": "51f3d46d-b057-4fb3-f023-18f72a8b0429"
      },
      "execution_count": 21,
      "outputs": [
        {
          "output_type": "stream",
          "name": "stdout",
          "text": [
            "('apple', 'banana', 'cherry')\n"
          ]
        }
      ]
    },
    {
      "cell_type": "code",
      "source": [
        "tuple_01=(\"ML\",\"DS\",\"DL\",\"NLP\",\"CV\",\"RNN\")\n",
        "if \"NLP\" in tuple_01:\n",
        "  print(\"Yes,'NLP'is in the tuple_01\")"
      ],
      "metadata": {
        "colab": {
          "base_uri": "https://localhost:8080/"
        },
        "id": "L9y_A5D-7MW4",
        "outputId": "4c50aade-50f7-4634-da25-24dc8883e7c3"
      },
      "execution_count": 29,
      "outputs": [
        {
          "output_type": "stream",
          "name": "stdout",
          "text": [
            "Yes,'NLP'is in the tuple_01\n"
          ]
        }
      ]
    },
    {
      "cell_type": "code",
      "source": [
        "tuple_01.append(\"Python\")"
      ],
      "metadata": {
        "colab": {
          "base_uri": "https://localhost:8080/",
          "height": 181
        },
        "id": "2vL83J6r7MT2",
        "outputId": "aa9eacc4-4ed6-4d23-81a1-8de8ca6b9e2e"
      },
      "execution_count": 30,
      "outputs": [
        {
          "output_type": "error",
          "ename": "AttributeError",
          "evalue": "ignored",
          "traceback": [
            "\u001b[0;31m---------------------------------------------------------------------------\u001b[0m",
            "\u001b[0;31mAttributeError\u001b[0m                            Traceback (most recent call last)",
            "\u001b[0;32m<ipython-input-30-39fef03010d1>\u001b[0m in \u001b[0;36m<cell line: 1>\u001b[0;34m()\u001b[0m\n\u001b[0;32m----> 1\u001b[0;31m \u001b[0mtuple_01\u001b[0m\u001b[0;34m.\u001b[0m\u001b[0mappend\u001b[0m\u001b[0;34m(\u001b[0m\u001b[0;34m\"Python\"\u001b[0m\u001b[0;34m)\u001b[0m\u001b[0;34m\u001b[0m\u001b[0;34m\u001b[0m\u001b[0m\n\u001b[0m",
            "\u001b[0;31mAttributeError\u001b[0m: 'tuple' object has no attribute 'append'"
          ]
        }
      ]
    },
    {
      "cell_type": "code",
      "source": [
        "tuple_01.remove(\"NLP\")"
      ],
      "metadata": {
        "colab": {
          "base_uri": "https://localhost:8080/",
          "height": 181
        },
        "id": "jM9bdxQF7MRX",
        "outputId": "7ce95d59-0d46-4624-f917-70f0a9683545"
      },
      "execution_count": 31,
      "outputs": [
        {
          "output_type": "error",
          "ename": "AttributeError",
          "evalue": "ignored",
          "traceback": [
            "\u001b[0;31m---------------------------------------------------------------------------\u001b[0m",
            "\u001b[0;31mAttributeError\u001b[0m                            Traceback (most recent call last)",
            "\u001b[0;32m<ipython-input-31-1134247ec907>\u001b[0m in \u001b[0;36m<cell line: 1>\u001b[0;34m()\u001b[0m\n\u001b[0;32m----> 1\u001b[0;31m \u001b[0mtuple_01\u001b[0m\u001b[0;34m.\u001b[0m\u001b[0mremove\u001b[0m\u001b[0;34m(\u001b[0m\u001b[0;34m\"NLP\"\u001b[0m\u001b[0;34m)\u001b[0m\u001b[0;34m\u001b[0m\u001b[0;34m\u001b[0m\u001b[0m\n\u001b[0m",
            "\u001b[0;31mAttributeError\u001b[0m: 'tuple' object has no attribute 'remove'"
          ]
        }
      ]
    },
    {
      "cell_type": "markdown",
      "source": [
        "***Change Tuple Values***"
      ],
      "metadata": {
        "id": "aeuKzZKhAUqR"
      }
    },
    {
      "cell_type": "code",
      "source": [
        "  Tup_01=(\"ML\",\"DS\",\"DL\",\"NLP\",\"CV\",\"RNN\",\"Pyhton\",\"Java\")"
      ],
      "metadata": {
        "id": "wdeWkTdR7MOr"
      },
      "execution_count": 34,
      "outputs": []
    },
    {
      "cell_type": "code",
      "source": [
        " Tup_02=list(Tup_01)"
      ],
      "metadata": {
        "id": "Bdk0NuIb-9h-"
      },
      "execution_count": 35,
      "outputs": []
    },
    {
      "cell_type": "code",
      "source": [
        "  Tup_02[2]=\"RS\""
      ],
      "metadata": {
        "id": "fvhhQIUu-9fI"
      },
      "execution_count": 37,
      "outputs": []
    },
    {
      "cell_type": "code",
      "source": [
        "Tup_01=tuple(Tup_02)"
      ],
      "metadata": {
        "id": "m2_4gMXD-9cP"
      },
      "execution_count": 38,
      "outputs": []
    },
    {
      "cell_type": "code",
      "source": [
        " print(Tup_01)"
      ],
      "metadata": {
        "colab": {
          "base_uri": "https://localhost:8080/"
        },
        "id": "s7ofRVIj-9Zn",
        "outputId": "67fc645c-8571-40a7-d2dc-618736becfa6"
      },
      "execution_count": 39,
      "outputs": [
        {
          "output_type": "stream",
          "name": "stdout",
          "text": [
            "('ML', 'DS', 'RS', 'NLP', 'CV', 'RNN', 'Pyhton', 'Java')\n"
          ]
        }
      ]
    },
    {
      "cell_type": "markdown",
      "source": [
        "*** Convert into a list***"
      ],
      "metadata": {
        "id": "TiO_3pSYBhHG"
      }
    },
    {
      "cell_type": "code",
      "source": [
        "y = list( Tup_01)\n",
        "y.append(\"HTML\")\n",
        "thistuple = tuple(y)"
      ],
      "metadata": {
        "id": "cxa_6JEvAiBr"
      },
      "execution_count": 40,
      "outputs": []
    },
    {
      "cell_type": "code",
      "source": [
        "print( Tup_01)"
      ],
      "metadata": {
        "colab": {
          "base_uri": "https://localhost:8080/"
        },
        "id": "sDge07FD-9XB",
        "outputId": "7383f395-720f-49f0-f52e-118ff9c02278"
      },
      "execution_count": 41,
      "outputs": [
        {
          "output_type": "stream",
          "name": "stdout",
          "text": [
            "('ML', 'DS', 'RS', 'NLP', 'CV', 'RNN', 'Pyhton', 'Java')\n"
          ]
        }
      ]
    },
    {
      "cell_type": "markdown",
      "source": [
        "***Add tuple to a tuple***"
      ],
      "metadata": {
        "id": "JXO3teYCBUmd"
      }
    },
    {
      "cell_type": "code",
      "source": [
        "thistuple = (\"apple\", \"banana\", \"cherry\")\n",
        "y = (\"orange\",)\n",
        "thistuple += y\n",
        "\n",
        "print(thistuple)"
      ],
      "metadata": {
        "colab": {
          "base_uri": "https://localhost:8080/"
        },
        "id": "C6wM6tuf-9UQ",
        "outputId": "6bd72bd3-675d-4894-c842-6436c3c9988b"
      },
      "execution_count": 46,
      "outputs": [
        {
          "output_type": "stream",
          "name": "stdout",
          "text": [
            "('apple', 'banana', 'cherry', 'orange')\n"
          ]
        }
      ]
    },
    {
      "cell_type": "code",
      "source": [
        "tuple_re = (\"apple\", \"banana\", \"cherry\")\n",
        "y = list(tuple_re)\n",
        "y.remove(\"apple\")\n",
        "tuple_re = tuple(y)\n",
        "print(tuple_re)"
      ],
      "metadata": {
        "colab": {
          "base_uri": "https://localhost:8080/"
        },
        "id": "6IZtdDWl-9RY",
        "outputId": "9a760163-b5e1-4e4a-df46-9db5d79203b9"
      },
      "execution_count": 51,
      "outputs": [
        {
          "output_type": "stream",
          "name": "stdout",
          "text": [
            "('banana', 'cherry')\n"
          ]
        }
      ]
    },
    {
      "cell_type": "code",
      "source": [
        "tuple_del = (\"apple\", \"banana\", \"cherry\")\n",
        "del tuple_del\n",
        "print(tuple_del) #this will raise an error because the tuple no longer exists"
      ],
      "metadata": {
        "colab": {
          "base_uri": "https://localhost:8080/",
          "height": 218
        },
        "id": "m752gmBqBL7a",
        "outputId": "a1cc8ef9-cf52-4ae6-a26a-b29eb39316c0"
      },
      "execution_count": 57,
      "outputs": [
        {
          "output_type": "error",
          "ename": "NameError",
          "evalue": "ignored",
          "traceback": [
            "\u001b[0;31m---------------------------------------------------------------------------\u001b[0m",
            "\u001b[0;31mNameError\u001b[0m                                 Traceback (most recent call last)",
            "\u001b[0;32m<ipython-input-57-37963a468a48>\u001b[0m in \u001b[0;36m<cell line: 3>\u001b[0;34m()\u001b[0m\n\u001b[1;32m      1\u001b[0m \u001b[0mtuple_del\u001b[0m \u001b[0;34m=\u001b[0m \u001b[0;34m(\u001b[0m\u001b[0;34m\"apple\"\u001b[0m\u001b[0;34m,\u001b[0m \u001b[0;34m\"banana\"\u001b[0m\u001b[0;34m,\u001b[0m \u001b[0;34m\"cherry\"\u001b[0m\u001b[0;34m)\u001b[0m\u001b[0;34m\u001b[0m\u001b[0;34m\u001b[0m\u001b[0m\n\u001b[1;32m      2\u001b[0m \u001b[0;32mdel\u001b[0m \u001b[0mtuple_del\u001b[0m\u001b[0;34m\u001b[0m\u001b[0;34m\u001b[0m\u001b[0m\n\u001b[0;32m----> 3\u001b[0;31m \u001b[0mprint\u001b[0m\u001b[0;34m(\u001b[0m\u001b[0mtuple_del\u001b[0m\u001b[0;34m)\u001b[0m \u001b[0;31m#this will raise an error because the tuple no longer exists\u001b[0m\u001b[0;34m\u001b[0m\u001b[0;34m\u001b[0m\u001b[0m\n\u001b[0m",
            "\u001b[0;31mNameError\u001b[0m: name 'tuple_del' is not defined"
          ]
        }
      ]
    },
    {
      "cell_type": "markdown",
      "source": [
        "***Unpacking a Tuple***"
      ],
      "metadata": {
        "id": "1T27umL8FHKs"
      }
    },
    {
      "cell_type": "code",
      "source": [
        "fruits = (\"apple\", \"banana\", \"cherry\")\n",
        "\n",
        "(green, yellow, red) = fruits\n",
        "\n",
        "print(green)\n",
        "print(yellow)\n",
        "print(red)"
      ],
      "metadata": {
        "colab": {
          "base_uri": "https://localhost:8080/"
        },
        "id": "P34HIKotBLys",
        "outputId": "a228ea5e-0740-4957-8358-2f262b6c3cbe"
      },
      "execution_count": 59,
      "outputs": [
        {
          "output_type": "stream",
          "name": "stdout",
          "text": [
            "apple\n",
            "banana\n",
            "cherry\n"
          ]
        }
      ]
    },
    {
      "cell_type": "markdown",
      "source": [
        "***Using Asterisk* ***"
      ],
      "metadata": {
        "id": "rJyijsV4GQ_q"
      }
    },
    {
      "cell_type": "code",
      "source": [
        "fruits = (\"apple\", \"banana\", \"cherry\", \"strawberry\", \"raspberry\")\n",
        "\n",
        "(green, yellow, *red) = fruits\n",
        "\n",
        "print(green)\n",
        "print(yellow)\n",
        "print(red)"
      ],
      "metadata": {
        "colab": {
          "base_uri": "https://localhost:8080/"
        },
        "id": "fqZdICuGGfY_",
        "outputId": "474869ad-d740-4b74-bd5c-01793427a390"
      },
      "execution_count": 60,
      "outputs": [
        {
          "output_type": "stream",
          "name": "stdout",
          "text": [
            "apple\n",
            "banana\n",
            "['cherry', 'strawberry', 'raspberry']\n"
          ]
        }
      ]
    },
    {
      "cell_type": "code",
      "source": [
        "fruits = (\"apple\", \"mango\", \"papaya\", \"pineapple\", \"cherry\")\n",
        "\n",
        "(green, *tropic, red) = fruits\n",
        "\n",
        "print(green)\n",
        "print(tropic)\n",
        "print(red)"
      ],
      "metadata": {
        "colab": {
          "base_uri": "https://localhost:8080/"
        },
        "id": "rHITbOS-BLtf",
        "outputId": "938dd9a8-8e77-4862-ba36-7d1f4a4a9a1f"
      },
      "execution_count": 61,
      "outputs": [
        {
          "output_type": "stream",
          "name": "stdout",
          "text": [
            "apple\n",
            "['mango', 'papaya', 'pineapple']\n",
            "cherry\n"
          ]
        }
      ]
    },
    {
      "cell_type": "markdown",
      "source": [
        "***Loop Through a Tuple***"
      ],
      "metadata": {
        "id": "gmKw04QzJXrn"
      }
    },
    {
      "cell_type": "code",
      "source": [
        "Tup_01=(\"ML\",\"DS\",\"DL\",\"NLP\",\"CV\",\"RNN\",\"Pyhton\",\"Java\")\n",
        "for x in Tup_01:\n",
        "  print(x)"
      ],
      "metadata": {
        "colab": {
          "base_uri": "https://localhost:8080/"
        },
        "id": "q3LF3BUOBLqp",
        "outputId": "980701ff-cedb-4d1c-fbaa-4bad7d124759"
      },
      "execution_count": 62,
      "outputs": [
        {
          "output_type": "stream",
          "name": "stdout",
          "text": [
            "ML\n",
            "DS\n",
            "DL\n",
            "NLP\n",
            "CV\n",
            "RNN\n",
            "Pyhton\n",
            "Java\n"
          ]
        }
      ]
    },
    {
      "cell_type": "markdown",
      "source": [
        "***Loop Through the Index Numbers***"
      ],
      "metadata": {
        "id": "Fx3QpWH6J3_A"
      }
    },
    {
      "cell_type": "code",
      "source": [
        "tuple_01=(\"ML\",\"DS\",\"DL\",\"NLP\",\"CV\",\"RNN\")\n",
        "for i in range(len(tuple_01)):\n",
        "  print(tuple_01[i])"
      ],
      "metadata": {
        "colab": {
          "base_uri": "https://localhost:8080/"
        },
        "id": "PAXepWYgJw2B",
        "outputId": "990310b3-c2aa-46b4-f648-d24c967d449c"
      },
      "execution_count": 67,
      "outputs": [
        {
          "output_type": "stream",
          "name": "stdout",
          "text": [
            "ML\n",
            "DS\n",
            "DL\n",
            "NLP\n",
            "CV\n",
            "RNN\n"
          ]
        }
      ]
    },
    {
      "cell_type": "code",
      "source": [
        "tuple_02=(\"ML\",\"DS\",\"DL\",\"NLP\",\"CV\",\"RNN\",\"CV\",\"NLP\")\n",
        "i=0\n",
        "while i < len (tuple_02):\n",
        "  print(tuple_02)\n",
        "  i=i+1"
      ],
      "metadata": {
        "colab": {
          "base_uri": "https://localhost:8080/"
        },
        "id": "k7AzNpwGJwys",
        "outputId": "251c9bf1-6df7-4e34-a7cf-8c53d4785f89"
      },
      "execution_count": 70,
      "outputs": [
        {
          "output_type": "stream",
          "name": "stdout",
          "text": [
            "('ML', 'DS', 'DL', 'NLP', 'CV', 'RNN', 'CV', 'NLP')\n",
            "('ML', 'DS', 'DL', 'NLP', 'CV', 'RNN', 'CV', 'NLP')\n",
            "('ML', 'DS', 'DL', 'NLP', 'CV', 'RNN', 'CV', 'NLP')\n",
            "('ML', 'DS', 'DL', 'NLP', 'CV', 'RNN', 'CV', 'NLP')\n",
            "('ML', 'DS', 'DL', 'NLP', 'CV', 'RNN', 'CV', 'NLP')\n",
            "('ML', 'DS', 'DL', 'NLP', 'CV', 'RNN', 'CV', 'NLP')\n",
            "('ML', 'DS', 'DL', 'NLP', 'CV', 'RNN', 'CV', 'NLP')\n",
            "('ML', 'DS', 'DL', 'NLP', 'CV', 'RNN', 'CV', 'NLP')\n"
          ]
        }
      ]
    },
    {
      "cell_type": "code",
      "source": [
        "tuple1 = (\"a\", \"b\" , \"c\")\n",
        "tuple2 = (1, 2, 3)\n",
        "\n",
        "tuple3 = tuple1 + tuple2\n",
        "print(tuple3)"
      ],
      "metadata": {
        "colab": {
          "base_uri": "https://localhost:8080/"
        },
        "id": "TJp6_7ivJwvW",
        "outputId": "e9a068e4-f597-4693-eb4b-3b3986ee1d0f"
      },
      "execution_count": 71,
      "outputs": [
        {
          "output_type": "stream",
          "name": "stdout",
          "text": [
            "('a', 'b', 'c', 1, 2, 3)\n"
          ]
        }
      ]
    },
    {
      "cell_type": "code",
      "source": [
        "fruits = (\"apple\", \"banana\", \"cherry\")\n",
        "mytuple = fruits * 2\n",
        "\n",
        "print(mytuple)"
      ],
      "metadata": {
        "colab": {
          "base_uri": "https://localhost:8080/"
        },
        "id": "q9ZAcaYnJwrQ",
        "outputId": "b4e43345-cc0a-448c-b27b-be7611b34f35"
      },
      "execution_count": 72,
      "outputs": [
        {
          "output_type": "stream",
          "name": "stdout",
          "text": [
            "('apple', 'banana', 'cherry', 'apple', 'banana', 'cherry')\n"
          ]
        }
      ]
    },
    {
      "cell_type": "code",
      "source": [],
      "metadata": {
        "id": "iEvVgoIjJwnY"
      },
      "execution_count": null,
      "outputs": []
    },
    {
      "cell_type": "code",
      "source": [],
      "metadata": {
        "id": "HNG1arDCJwkH"
      },
      "execution_count": null,
      "outputs": []
    },
    {
      "cell_type": "code",
      "source": [],
      "metadata": {
        "id": "oCuoxoY7JwhL"
      },
      "execution_count": null,
      "outputs": []
    }
  ]
}