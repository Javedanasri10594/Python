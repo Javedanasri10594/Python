{
  "nbformat": 4,
  "nbformat_minor": 0,
  "metadata": {
    "colab": {
      "provenance": []
    },
    "kernelspec": {
      "name": "python3",
      "display_name": "Python 3"
    },
    "language_info": {
      "name": "python"
    }
  },
  "cells": [
    {
      "cell_type": "code",
      "execution_count": null,
      "metadata": {
        "colab": {
          "base_uri": "https://localhost:8080/"
        },
        "id": "sQhhGo8hX7nz",
        "outputId": "2b38308e-906b-45e8-e67d-3a5530a00ab9"
      },
      "outputs": [
        {
          "output_type": "stream",
          "name": "stdout",
          "text": [
            "Enter the value of x:20\n",
            "Enter the value of y:15\n",
            "x  is greater then y\n"
          ]
        }
      ],
      "source": [
        "x=int(input(\"Enter the value of x:\"))\n",
        "y=int(input(\"Enter the value of y:\"))\n",
        "if x>y:\n",
        "   print(\"x  is greater then y\")\n",
        "\n",
        "else:\n",
        "   print(\"y  is greater then x\")"
      ]
    },
    {
      "cell_type": "code",
      "source": [
        "x=int(input(\"Enter the value of x:\"))\n",
        "y=int(input(\"Enter the value of y:\"))\n",
        "if x>y:\n",
        "   print(\"x  is greater then y\")\n",
        "elif x==y:\n",
        "   print(\"Vaule of x and y are same\")\n",
        "else:\n",
        "   print(\"y  is greater then x\")"
      ],
      "metadata": {
        "colab": {
          "base_uri": "https://localhost:8080/"
        },
        "id": "UkHEFKt2d37B",
        "outputId": "5df7cb0c-dc91-4675-f52e-bdc843bd7d68"
      },
      "execution_count": null,
      "outputs": [
        {
          "output_type": "stream",
          "name": "stdout",
          "text": [
            "Enter the value of x:10\n",
            "Enter the value of y:10\n",
            "Vaule of x and y are same\n"
          ]
        }
      ]
    },
    {
      "cell_type": "code",
      "source": [
        "x=float(input(\"Enter the value of x:\"))\n",
        "y=float(input(\"Enter the value of y:\"))\n",
        "if x>y:\n",
        "   print(\"x  is greater then y\")\n",
        "elif x==y:\n",
        "   print(\"Vaule of x and y are same\")\n",
        "else:\n",
        "   print(\"y  is greater then x\")"
      ],
      "metadata": {
        "colab": {
          "base_uri": "https://localhost:8080/"
        },
        "id": "xZdD_sQi8dgo",
        "outputId": "fbee15de-3d38-42ba-a23f-e602f4250d01"
      },
      "execution_count": null,
      "outputs": [
        {
          "output_type": "stream",
          "name": "stdout",
          "text": [
            "Enter the value of x:25.35\n",
            "Enter the value of y:35.45\n",
            "y  is greater then x\n"
          ]
        }
      ]
    },
    {
      "cell_type": "markdown",
      "source": [],
      "metadata": {
        "id": "s6ZimiSQiAm-"
      }
    },
    {
      "cell_type": "code",
      "source": [
        "age=int(input(\"Enter the age: \"))\n",
        "\n",
        "\n",
        "if age<4:\n",
        "  print(\" 0 INR\")\n",
        "elif 4<=age<=16:\n",
        "  print(\"100 INR\")\n",
        "else:\n",
        "  print(\"170 INR\")\n"
      ],
      "metadata": {
        "colab": {
          "base_uri": "https://localhost:8080/"
        },
        "id": "yHKrv9Teh_WL",
        "outputId": "d186ca7c-d304-4770-aab0-87455b4812be"
      },
      "execution_count": null,
      "outputs": [
        {
          "output_type": "stream",
          "name": "stdout",
          "text": [
            "Enter the age: 12\n",
            "100 INR\n"
          ]
        }
      ]
    },
    {
      "cell_type": "code",
      "source": [
        "\n"
      ],
      "metadata": {
        "colab": {
          "base_uri": "https://localhost:8080/"
        },
        "id": "olfBqpro4P6j",
        "outputId": "92306290-01d6-4b4c-8ac2-ce28de249d4d"
      },
      "execution_count": null,
      "outputs": [
        {
          "output_type": "stream",
          "name": "stdout",
          "text": [
            "Enter the age: 17\n",
            "This age of Studets are not exist in this School.\n"
          ]
        }
      ]
    },
    {
      "cell_type": "code",
      "source": [
        "num=int(input(\"Enter the Number: \"))\n",
        "\n",
        "if num%2==0:\n",
        "  print(\"Even Number\")\n",
        "else:\n",
        "  print(\"Odd Number\")\n"
      ],
      "metadata": {
        "colab": {
          "base_uri": "https://localhost:8080/"
        },
        "id": "RtjNhoNWd35R",
        "outputId": "51347adb-5e43-4643-f2c0-d3b60ecff9d6"
      },
      "execution_count": null,
      "outputs": [
        {
          "output_type": "stream",
          "name": "stdout",
          "text": [
            "Enter the Number: 20\n",
            "Even Number\n"
          ]
        }
      ]
    },
    {
      "cell_type": "code",
      "source": [
        "length=int(input(\"Enter the Length:-\"))\n",
        "Breadth=int(input(\"Enter the Breadth:-\"))\n",
        "\n",
        "if length==Breadth:\n",
        "  print(\"Rectangle is Squre\")\n",
        "else :\n",
        "  print(\"Rectangle is  not Squre\")\n",
        "\n",
        "\n"
      ],
      "metadata": {
        "colab": {
          "base_uri": "https://localhost:8080/"
        },
        "id": "fsEvg9QbmMCI",
        "outputId": "eb78ec44-be72-4a54-b97c-f6a2bf2e96b8"
      },
      "execution_count": null,
      "outputs": [
        {
          "output_type": "stream",
          "name": "stdout",
          "text": [
            "Enter the Length:-10\n",
            "Enter the Breadth:-10\n",
            "Rectangle is Squre\n"
          ]
        }
      ]
    },
    {
      "cell_type": "code",
      "source": [
        " current_salary=int(input(\"Enter the current salary\"))\n",
        " years=int(input(\"Enetr  your years of experience with this organization:\"))\n",
        "\n",
        " if years>=5:\n",
        "   print(\"Your increment salary\",current_salary+0.05*current_salary)\n",
        "else:\n",
        "  print(\"Not eligible for increment\",current_salary)\n",
        "\n",
        "\n"
      ],
      "metadata": {
        "colab": {
          "base_uri": "https://localhost:8080/"
        },
        "id": "xB784hEbd33M",
        "outputId": "5bd38169-7478-42ea-e161-de12937e871b"
      },
      "execution_count": null,
      "outputs": [
        {
          "output_type": "stream",
          "name": "stdout",
          "text": [
            "Enter the current salary15000\n",
            "Enetr  your years of exprience with this organization:6\n",
            "Your increment salary 15750.0\n"
          ]
        }
      ]
    },
    {
      "cell_type": "markdown",
      "source": [],
      "metadata": {
        "id": "eAdPEtr340b7"
      }
    },
    {
      "cell_type": "code",
      "source": [
        "x=int(input(\"Enter the Current salary:-\"))\n",
        "y=int(input(\"Enter the Total Exprience:-\"))\n",
        "\n",
        "if y>=5:\n",
        "  print(\"Your incermented salary\",x+0.10*x)\n",
        "else:\n",
        "  print(\"Not eligible for increment, your salary is\",x)"
      ],
      "metadata": {
        "colab": {
          "base_uri": "https://localhost:8080/"
        },
        "id": "trdwVu9Od31V",
        "outputId": "ceb964e6-9de8-434b-f643-850ae9b272ec"
      },
      "execution_count": null,
      "outputs": [
        {
          "output_type": "stream",
          "name": "stdout",
          "text": [
            "Enter the Current salary:-10000\n",
            "Enter the Total Exprience:-6\n",
            "Your incermented salary 11000.0\n"
          ]
        }
      ]
    },
    {
      "cell_type": "code",
      "source": [
        "items=int(input(\"enter the items:-\"))\n",
        "price=200*items\n",
        "\n",
        "if price>=2000:\n",
        "  print(\"your Discount price is\",price- 0.20*price)\n",
        "else:\n",
        "  print(\" Your final price without Discount\",price)"
      ],
      "metadata": {
        "colab": {
          "base_uri": "https://localhost:8080/"
        },
        "id": "OPbKkOA7d3zV",
        "outputId": "a1a713e7-365a-475c-a505-5f2b58f0ba94"
      },
      "execution_count": null,
      "outputs": [
        {
          "output_type": "stream",
          "name": "stdout",
          "text": [
            "enter the items:-3000\n",
            "your Discount price is 480000.0\n"
          ]
        }
      ]
    },
    {
      "cell_type": "markdown",
      "source": [
        "Ques(1)-Question Modified for Conditinal Statement"
      ],
      "metadata": {
        "id": "6VZNVMTZ_AvL"
      }
    },
    {
      "cell_type": "code",
      "source": [
        "items=int(input(\"Enter the items: \"))\n",
        "price=200*items\n",
        "\n",
        "if 500<=price<=2000:\n",
        "  print(\"your Discount price is\",price- 0.20*price)\n",
        "elif 2000<=price<=5000:\n",
        "  print(\"your Discount price is\",price- 0.30*price)\n",
        "elif 5000<=price<=8000:\n",
        "  print(\"your Discount price is\",price- 0.40*price)\n",
        "elif 8000<=price<=10000:\n",
        "  print(\"your Discount price is\",price- 0.50*price)\n",
        "elif price>=10000:\n",
        "  print(\"your Discount price is\",price- 0.70*price)\n",
        "else:\n",
        "  print(\" Your final price without Discount\",price)"
      ],
      "metadata": {
        "id": "aqIfwei2d3w0",
        "colab": {
          "base_uri": "https://localhost:8080/"
        },
        "outputId": "15210653-c0ca-42ee-ca02-c4128bafd1e1"
      },
      "execution_count": null,
      "outputs": [
        {
          "output_type": "stream",
          "name": "stdout",
          "text": [
            "Enter the items: 50\n",
            "your Discount price is 5000.0\n"
          ]
        }
      ]
    },
    {
      "cell_type": "markdown",
      "source": [
        "Ques(2)-Question Modified for Conditinal Statement"
      ],
      "metadata": {
        "id": "cTNSWVIH_RuX"
      }
    },
    {
      "cell_type": "code",
      "source": [
        " current_salary=int(input(\"Enter the current salary: \"))\n",
        " years=int(input(\"Enter years of exprience with this organization: \"))\n",
        "\n",
        " if 2<=years<=5:\n",
        "   print(\"Your increment salary\",current_salary+0.10*current_salary)\n",
        "elif 5<=years<=8:\n",
        "   print(\"Your increment salary\",current_salary+0.20*current_salary)\n",
        "elif 8<=years<=12:\n",
        "   print(\"Your increment salary\",current_salary+0.30*current_salary)\n",
        "elif years>=12:\n",
        "   print(\"Your increment salary\",current_salary+0.40*current_salary)\n",
        "else:\n",
        "  print(\"Not eligible for increment\",current_salary)\n",
        "\n"
      ],
      "metadata": {
        "id": "RuU-SBSjd3ti",
        "colab": {
          "base_uri": "https://localhost:8080/"
        },
        "outputId": "448689f5-28cc-4fea-d823-39afe351bc99"
      },
      "execution_count": null,
      "outputs": [
        {
          "output_type": "stream",
          "name": "stdout",
          "text": [
            "Enter the current salary: 10000\n",
            "Enter years of exprience with this organization: 1\n",
            "Not eligible for increment 10000\n"
          ]
        }
      ]
    },
    {
      "cell_type": "markdown",
      "source": [
        "Ques(3)-Question Modified for Conditinal Statement"
      ],
      "metadata": {
        "id": "02_yDVlr7Nwb"
      }
    },
    {
      "cell_type": "code",
      "source": [
        "age=int(input(\"Enter the age: \"))\n",
        "\n",
        "\n",
        "if age<4:\n",
        "  print(\" Class - 00-01\")\n",
        "elif 4<=age<=6:\n",
        "  print(\" Class - 02-03\")\n",
        "elif 6<=age<=8:\n",
        "  print(\" Class - 03-05\")\n",
        "elif 8<=age<=10:\n",
        "  print(\" Class - 05-08\")\n",
        "elif 10<=age<=16:\n",
        "  print(\" Class - 08-12\")\n",
        "else:\n",
        "  print(\"This age of Studets are not exist in this School.\")"
      ],
      "metadata": {
        "id": "XiNk-xZA7Kc8",
        "colab": {
          "base_uri": "https://localhost:8080/"
        },
        "outputId": "e2f97041-cb81-40c7-95d8-bbf5a3b64381"
      },
      "execution_count": null,
      "outputs": [
        {
          "output_type": "stream",
          "name": "stdout",
          "text": [
            "Enter the age: 18\n",
            "This age of Studets are not exist in this School.\n"
          ]
        }
      ]
    },
    {
      "cell_type": "markdown",
      "source": [
        "Genrate a simple calculator by using conditional statements"
      ],
      "metadata": {
        "id": "Z4zdlStu7Afj"
      }
    },
    {
      "cell_type": "code",
      "source": [
        "print('''\n",
        "+ ADD\n",
        "- SUBTRACT\n",
        "* MULTIPY\n",
        "/ DIVIDE\n",
        "''')\n",
        "Num1=float(input(\"Enter The Number 1: \"))\n",
        "Num2=float(input(\"Enter The Number 2: \"))\n",
        "opr=input('Enter The Opreation....')\n",
        "\n",
        "if opr==\"+\":\n",
        "  print(Num1+Num2)\n",
        "elif opr==\"-\":\n",
        "  print(Num1-Num2)\n",
        "elif opr==\"*\":\n",
        "  print(Num1*Num2)\n",
        "elif opr==\"/\":\n",
        "  print(Num1/Num2)\n",
        "else:\n",
        "  print(\"Invalid Opretaion...: \")"
      ],
      "metadata": {
        "id": "2ZWf2lAud3qr",
        "colab": {
          "base_uri": "https://localhost:8080/"
        },
        "outputId": "9b97c39a-2c56-46c8-9ec4-e057b7460e91"
      },
      "execution_count": null,
      "outputs": [
        {
          "output_type": "stream",
          "name": "stdout",
          "text": [
            "\n",
            "+ ADD\n",
            "- SUBTRACT\n",
            "* MULTIPY\n",
            "/ DIVIDE\n",
            "\n",
            "Enter The Number 1: 25\n",
            "Enter The Number 2: 25\n",
            "Enter The Opreation....+\n",
            "50.0\n"
          ]
        }
      ]
    },
    {
      "cell_type": "markdown",
      "source": [
        "Ques-Write a program to calculate the electricity bill (accpet number of unit from user) according to the f0llowing criteria.\n",
        "     Units                     Amount\n",
        "First 100 units                  0\n",
        "Next  100 Units              RS 5 per units\n",
        "After 200 Units              RS 10 per units\n",
        "(For Example if input unit 350 then total bill amount is RS 2000)"
      ],
      "metadata": {
        "id": "cxLi-glET58h"
      }
    },
    {
      "cell_type": "code",
      "source": [
        "Unit=int(input(\"Enter the Number of Electric Unit =\"))\n",
        "Amount=0\n",
        "if Unit<=100:\n",
        "  print(\"Amount to pay:\",0)\n",
        "elif 100<Unit<=200:\n",
        "  print(\"Amount to pay:\",(Unit-100)*5)\n",
        "elif Unit>=200:\n",
        "  print(\"Amount to pay:\",500+(Unit-100)*10)\n",
        "else:\n",
        "  print(\"Invalid units...\")"
      ],
      "metadata": {
        "id": "WVKS55AT8gNa",
        "colab": {
          "base_uri": "https://localhost:8080/"
        },
        "outputId": "72e36789-f0f0-41ee-8cc2-aec241ffec4f"
      },
      "execution_count": null,
      "outputs": [
        {
          "output_type": "stream",
          "name": "stdout",
          "text": [
            "Enter the Number of Electric Unit =300\n",
            "Amount to pay: 2500\n"
          ]
        }
      ]
    },
    {
      "cell_type": "code",
      "source": [
        "Number=int(input(\"Enter any number : \"))\n",
        "print(\"Last digit of number is:\",Number%10)\n",
        "\n",
        "\n"
      ],
      "metadata": {
        "id": "0Ayj6AVXd3oK",
        "colab": {
          "base_uri": "https://localhost:8080/"
        },
        "outputId": "c6e591e8-d13d-4666-97ab-38e5a2f147a9"
      },
      "execution_count": null,
      "outputs": [
        {
          "output_type": "stream",
          "name": "stdout",
          "text": [
            "Enter any number : 786\n",
            "Last digit of number is: 6\n"
          ]
        }
      ]
    },
    {
      "cell_type": "markdown",
      "source": [
        "Ques-Write a program to accpet percentage from the user and display the grade according to the following criteria.\n",
        "       Marks                        Grade\n",
        "       >90                            A\n",
        "   >80 and <=90                       B\n",
        "   >=60 and<=80                       C\n",
        "     Below 60                         D\n"
      ],
      "metadata": {
        "id": "XP9xn9cMW13C"
      }
    },
    {
      "cell_type": "code",
      "source": [
        "Per=int(input(\"Enter the Percentage =\"))\n",
        "\n",
        "if Per<60:\n",
        "  print(\"Your Grade is : D \")\n",
        "elif 60<=Per<=80:\n",
        "  print(\"Your Grade is : C \")\n",
        "elif 80<=Per<=90:\n",
        "  print(\"Your Grade is : B \")\n",
        "elif Per>90:\n",
        "  print(\"Your Grade is : A \")\n",
        "else:\n",
        "  print(\"Check your given input :\")\n",
        "\n",
        "\n",
        "\n",
        "\n"
      ],
      "metadata": {
        "colab": {
          "base_uri": "https://localhost:8080/"
        },
        "id": "t26oF14sH4Ce",
        "outputId": "b5844e81-3c32-4c35-b9cb-79b76f59e4f4"
      },
      "execution_count": null,
      "outputs": [
        {
          "output_type": "stream",
          "name": "stdout",
          "text": [
            "Enter the Percentage =65\n",
            "Your Grade is : C \n"
          ]
        }
      ]
    },
    {
      "cell_type": "code",
      "source": [
        "Per=float(input(\"Enter the Percentage =\"))\n",
        "\n",
        "if Per<60:\n",
        "  print(\"Your Grade is : D \")\n",
        "elif 60<=Per<=80:\n",
        "  print(\"Your Grade is : C \")\n",
        "elif 80<=Per<=90:\n",
        "  print(\"Your Grade is : B \")\n",
        "elif Per>90:\n",
        "  print(\"Your Grade is : A \")\n",
        "else:\n",
        "  print(\"Check your given input :\")\n"
      ],
      "metadata": {
        "colab": {
          "base_uri": "https://localhost:8080/"
        },
        "id": "_wUSziLxH4AN",
        "outputId": "0fe149fc-902e-4123-db3b-759940c50794"
      },
      "execution_count": null,
      "outputs": [
        {
          "output_type": "stream",
          "name": "stdout",
          "text": [
            "Enter the Percentage =90\n",
            "Your Grade is : B \n"
          ]
        }
      ]
    },
    {
      "cell_type": "markdown",
      "source": [
        "Ques-Accpet any city from the user and display monuments of that city.\n",
        "      City                       Monument\n",
        "     Delhi                       Red Fort\n",
        "     Agra                        Taj Mahal\n",
        "     Jaipur                      Jal Mahal"
      ],
      "metadata": {
        "id": "MFMbr1PolaXU"
      }
    },
    {
      "cell_type": "code",
      "source": [
        "City=input(\"Enter your Ciyt: \")\n",
        "\n",
        "if City==\"Delhi\":\n",
        "  print(\"Your City Monument is : Red Fort\")\n",
        "elif City==\"Agra\":\n",
        "  print(\"Your City Monument is : Taj Mahal\")\n",
        "elif City==\"Jaipur\":\n",
        "  print(\"Your City Monument is : Jal Mahal\")\n",
        "else:\n",
        "  print(\"Your City does not Match : \")"
      ],
      "metadata": {
        "colab": {
          "base_uri": "https://localhost:8080/"
        },
        "id": "yY5jRAuCH39t",
        "outputId": "0092a70c-0909-498d-d819-07e902675fa5"
      },
      "execution_count": null,
      "outputs": [
        {
          "output_type": "stream",
          "name": "stdout",
          "text": [
            "Enter your Ciyt: Agra\n",
            "Your City Monument is : Taj Mahal\n"
          ]
        }
      ]
    },
    {
      "cell_type": "markdown",
      "source": [
        "Ques-Write a program to find the three largest number expected from user."
      ],
      "metadata": {
        "id": "8TDq1epXMFVn"
      }
    },
    {
      "cell_type": "code",
      "source": [
        "Num01=int(input(\"Enter the 1st Number : \"))\n",
        "Num02=int(input(\"Enter the 2nd Number : \"))\n",
        "Num03=int(input(\"Enter the 3rd Number : \"))\n",
        "if Num01>Num02 and Num01>Num03:\n",
        "  print(\"Num01 is a greater number :\",Num01)\n",
        "elif Num02>Num01 and Num02>Num03:\n",
        "  print(\"Num02 is a greater number :\",Num02)\n",
        "elif Num03>Num01 and Num03>Num02:\n",
        "  print(\"Num03 is a greater number :\",Num03)\n",
        "else :\n",
        "  print(\"Invalid Opreation...\")"
      ],
      "metadata": {
        "colab": {
          "base_uri": "https://localhost:8080/"
        },
        "id": "ENCI_CD8H35E",
        "outputId": "8c7a74fa-d65e-4012-adbc-87aaf6f4703d"
      },
      "execution_count": null,
      "outputs": [
        {
          "output_type": "stream",
          "name": "stdout",
          "text": [
            "Enter the 1st Number : 50\n",
            "Enter the 2nd Number : 20\n",
            "Enter the 3rd Number : 30\n",
            "Num01 is a greater number : 50\n"
          ]
        }
      ]
    },
    {
      "cell_type": "code",
      "source": [],
      "metadata": {
        "id": "UNud8Q12H32-"
      },
      "execution_count": null,
      "outputs": []
    },
    {
      "cell_type": "code",
      "source": [],
      "metadata": {
        "id": "G0g9QyS4H30G"
      },
      "execution_count": null,
      "outputs": []
    },
    {
      "cell_type": "code",
      "source": [],
      "metadata": {
        "id": "Fl4Ff5-FH3xi"
      },
      "execution_count": null,
      "outputs": []
    },
    {
      "cell_type": "code",
      "source": [],
      "metadata": {
        "id": "YMG6TJwfH3vC"
      },
      "execution_count": null,
      "outputs": []
    }
  ]
}