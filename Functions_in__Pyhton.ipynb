{
  "nbformat": 4,
  "nbformat_minor": 0,
  "metadata": {
    "colab": {
      "provenance": []
    },
    "kernelspec": {
      "name": "python3",
      "display_name": "Python 3"
    },
    "language_info": {
      "name": "python"
    }
  },
  "cells": [
    {
      "cell_type": "markdown",
      "source": [
        "Create a function which adds two numbers"
      ],
      "metadata": {
        "id": "PjdV0_7dnKLt"
      }
    },
    {
      "cell_type": "code",
      "execution_count": null,
      "metadata": {
        "id": "jAIMzP5LkQhl"
      },
      "outputs": [],
      "source": [
        "def add(a,b):\n",
        "\n",
        "  c=a+b\n",
        "\n",
        "  print(c)"
      ]
    },
    {
      "cell_type": "code",
      "source": [
        "add(1,3)"
      ],
      "metadata": {
        "colab": {
          "base_uri": "https://localhost:8080/"
        },
        "id": "KF59WHE8nR1-",
        "outputId": "bf4a65e6-c919-4928-c3b0-98ad612ee39d"
      },
      "execution_count": null,
      "outputs": [
        {
          "output_type": "stream",
          "name": "stdout",
          "text": [
            "4\n"
          ]
        }
      ]
    },
    {
      "cell_type": "code",
      "source": [
        "add(-7,5)"
      ],
      "metadata": {
        "colab": {
          "base_uri": "https://localhost:8080/"
        },
        "id": "qTU1PL9HnT9p",
        "outputId": "61d9fd53-aadc-4b62-95c0-a9388b36891c"
      },
      "execution_count": null,
      "outputs": [
        {
          "output_type": "stream",
          "name": "stdout",
          "text": [
            "-2\n"
          ]
        }
      ]
    },
    {
      "cell_type": "code",
      "source": [
        "add(30,47)"
      ],
      "metadata": {
        "colab": {
          "base_uri": "https://localhost:8080/"
        },
        "id": "RZHjbYurnXDL",
        "outputId": "e2591b75-8923-4b6f-9e13-977a58a56f35"
      },
      "execution_count": null,
      "outputs": [
        {
          "output_type": "stream",
          "name": "stdout",
          "text": [
            "77\n"
          ]
        }
      ]
    },
    {
      "cell_type": "markdown",
      "source": [
        "Create a function which adds 3 numbers"
      ],
      "metadata": {
        "id": "jiG8unFcnso-"
      }
    },
    {
      "cell_type": "code",
      "source": [
        "def sum(x,y,z):\n",
        "  p=x+y+z\n",
        "  print(p)"
      ],
      "metadata": {
        "id": "UvMXei-3nYx0"
      },
      "execution_count": null,
      "outputs": []
    },
    {
      "cell_type": "code",
      "source": [
        "sum(2,3,4)"
      ],
      "metadata": {
        "colab": {
          "base_uri": "https://localhost:8080/"
        },
        "id": "ylFpQASVoBd3",
        "outputId": "8feb7b3f-7ef5-4b63-dac1-7c71040daede"
      },
      "execution_count": null,
      "outputs": [
        {
          "output_type": "stream",
          "name": "stdout",
          "text": [
            "9\n"
          ]
        }
      ]
    },
    {
      "cell_type": "markdown",
      "source": [
        "Create a function which subtracts three numbers"
      ],
      "metadata": {
        "id": "U-fvN9UMoOxI"
      }
    },
    {
      "cell_type": "code",
      "source": [
        "def sub(x,y,z):\n",
        "  q=x-y-z\n",
        "  print(q)"
      ],
      "metadata": {
        "id": "xWXPF0OToC13"
      },
      "execution_count": null,
      "outputs": []
    },
    {
      "cell_type": "code",
      "source": [
        "sub(3,7,9)"
      ],
      "metadata": {
        "colab": {
          "base_uri": "https://localhost:8080/"
        },
        "id": "wkbqkRHuoXaH",
        "outputId": "e6120fa6-9992-44e3-c9b6-6ee1abb4b2b3"
      },
      "execution_count": null,
      "outputs": [
        {
          "output_type": "stream",
          "name": "stdout",
          "text": [
            "-13\n"
          ]
        }
      ]
    },
    {
      "cell_type": "markdown",
      "source": [
        "Create a function which adds, subtracts, multiplies and divides two numbers"
      ],
      "metadata": {
        "id": "hQF7qpQMogtL"
      }
    },
    {
      "cell_type": "code",
      "source": [
        "def compute(a,b):\n",
        "  c=a+b\n",
        "  d=a-b\n",
        "  e=a*b\n",
        "  f=a/b\n",
        "\n",
        "  print(c,d,e,f)"
      ],
      "metadata": {
        "id": "pQtE5QRfoY-C"
      },
      "execution_count": null,
      "outputs": []
    },
    {
      "cell_type": "code",
      "source": [
        "compute(5,2)"
      ],
      "metadata": {
        "colab": {
          "base_uri": "https://localhost:8080/"
        },
        "id": "MDSVlQrrovxV",
        "outputId": "20468550-e75f-4a39-9d62-efcfbba57816"
      },
      "execution_count": null,
      "outputs": [
        {
          "output_type": "stream",
          "name": "stdout",
          "text": [
            "7 3 10 2.5\n"
          ]
        }
      ]
    },
    {
      "cell_type": "markdown",
      "source": [
        "Create a function which takes name and age as input from the user and display the age of the user"
      ],
      "metadata": {
        "id": "Qe6yBFsppUaD"
      }
    },
    {
      "cell_type": "code",
      "source": [
        "def info(name,age):\n",
        "  print(\"Your age is\",age)"
      ],
      "metadata": {
        "id": "y4HUDc45oxje"
      },
      "execution_count": null,
      "outputs": []
    },
    {
      "cell_type": "code",
      "source": [
        "info('Meera',24)"
      ],
      "metadata": {
        "colab": {
          "base_uri": "https://localhost:8080/"
        },
        "id": "17YW2sb3qwUl",
        "outputId": "bfe27acb-559e-4bf6-9c5f-8e17befba528"
      },
      "execution_count": null,
      "outputs": [
        {
          "output_type": "stream",
          "name": "stdout",
          "text": [
            "Your age is 24\n"
          ]
        }
      ]
    },
    {
      "cell_type": "code",
      "source": [
        "info('Rajat',32)"
      ],
      "metadata": {
        "colab": {
          "base_uri": "https://localhost:8080/"
        },
        "id": "vQ2OFiYPqyXK",
        "outputId": "c67e3b71-db89-4c6b-fe42-ab18fa4b2a24"
      },
      "execution_count": null,
      "outputs": [
        {
          "output_type": "stream",
          "name": "stdout",
          "text": [
            "Your age is 32\n"
          ]
        }
      ]
    },
    {
      "cell_type": "markdown",
      "source": [
        "Create a function which takes name and salary as input from the user and display the salary of the user"
      ],
      "metadata": {
        "id": "5WSSVEDJq_zZ"
      }
    },
    {
      "cell_type": "code",
      "source": [
        "def data(name,salary):\n",
        "  print(\"Hi your salary is\",salary)"
      ],
      "metadata": {
        "id": "DmovS5RVq9Lr"
      },
      "execution_count": null,
      "outputs": []
    },
    {
      "cell_type": "code",
      "source": [
        "data('Rajesh',20000)"
      ],
      "metadata": {
        "colab": {
          "base_uri": "https://localhost:8080/"
        },
        "id": "wRBSyig-rkUG",
        "outputId": "c65e626f-d864-4742-ef25-dea2628ff352"
      },
      "execution_count": null,
      "outputs": [
        {
          "output_type": "stream",
          "name": "stdout",
          "text": [
            "Hi your salary is 20000\n"
          ]
        }
      ]
    },
    {
      "cell_type": "code",
      "source": [
        "data('Meera',80000)"
      ],
      "metadata": {
        "colab": {
          "base_uri": "https://localhost:8080/"
        },
        "id": "YHm85lg-rmX7",
        "outputId": "7213cd68-3dc5-419c-dec1-1cba123dd220"
      },
      "execution_count": null,
      "outputs": [
        {
          "output_type": "stream",
          "name": "stdout",
          "text": [
            "Hi your salary is 80000\n"
          ]
        }
      ]
    },
    {
      "cell_type": "markdown",
      "source": [
        "Create a function which computes the area and circumference of a circle\n",
        "\n",
        "\n",
        "Formula :-\n",
        "\n",
        "Circumference - 2*pi*r\n",
        "\n",
        "Area - pi*r^2"
      ],
      "metadata": {
        "id": "97O104VsrynN"
      }
    },
    {
      "cell_type": "code",
      "source": [
        "def circle(r):\n",
        "  area=3.14*r**2\n",
        "  circum=2*3.14*r\n",
        "  print(\"area of the circle is\",area,\"units and circumference is\", circum,\"units\")"
      ],
      "metadata": {
        "id": "6PBZWid0rp9M"
      },
      "execution_count": null,
      "outputs": []
    },
    {
      "cell_type": "code",
      "source": [
        "circle(10)"
      ],
      "metadata": {
        "colab": {
          "base_uri": "https://localhost:8080/"
        },
        "id": "0LhSPB7Rtt1s",
        "outputId": "94ec6309-ef1e-43a5-9c90-b0e7056821d6"
      },
      "execution_count": null,
      "outputs": [
        {
          "output_type": "stream",
          "name": "stdout",
          "text": [
            "area of the circle is 314.0 units and circumference is 62.800000000000004 units\n"
          ]
        }
      ]
    },
    {
      "cell_type": "code",
      "source": [
        "circle(5)"
      ],
      "metadata": {
        "colab": {
          "base_uri": "https://localhost:8080/"
        },
        "id": "EF_GzZj_tzZP",
        "outputId": "a7981cd9-aa04-4f78-c915-4c3b69cf0912"
      },
      "execution_count": null,
      "outputs": [
        {
          "output_type": "stream",
          "name": "stdout",
          "text": [
            "area of the circle is 78.5 units and circumference is 31.400000000000002 units\n"
          ]
        }
      ]
    },
    {
      "cell_type": "markdown",
      "source": [
        "Create a function which computes area and perimeter of a rectange\n",
        "\n",
        "Formula :-\n",
        "\n",
        "Area - l*b\n",
        "\n",
        "Perimeter - 2(l+b)"
      ],
      "metadata": {
        "id": "m07byIxFsUZi"
      }
    },
    {
      "cell_type": "code",
      "source": [
        "def rect(l,b):\n",
        "  area=l*b\n",
        "  perimeter=2*(l+b)\n",
        "  print(\"area of rectange is\",area,\"and perimeter is\",perimeter)"
      ],
      "metadata": {
        "id": "kNINFRhbsn5H"
      },
      "execution_count": null,
      "outputs": []
    },
    {
      "cell_type": "code",
      "source": [
        "rect(20,30)"
      ],
      "metadata": {
        "colab": {
          "base_uri": "https://localhost:8080/"
        },
        "id": "m9BrN_mZuKZT",
        "outputId": "486a0897-c9e5-4d29-d24b-d2b44766f815"
      },
      "execution_count": null,
      "outputs": [
        {
          "output_type": "stream",
          "name": "stdout",
          "text": [
            "area of rectange is 600 and perimeter is 100\n"
          ]
        }
      ]
    },
    {
      "cell_type": "markdown",
      "source": [
        "Create a function which adds all the elements in a given group of numbers"
      ],
      "metadata": {
        "id": "Jfj8RZshuX4k"
      }
    },
    {
      "cell_type": "code",
      "source": [
        "def add_sum(numbers):\n",
        "  sum=0\n",
        "\n",
        "  for i in numbers:\n",
        "    sum=sum+i\n",
        "\n",
        "  print(sum)"
      ],
      "metadata": {
        "id": "IbgGJqDFuM-2"
      },
      "execution_count": null,
      "outputs": []
    },
    {
      "cell_type": "code",
      "source": [
        "add_sum((2,3,4,5))"
      ],
      "metadata": {
        "colab": {
          "base_uri": "https://localhost:8080/"
        },
        "id": "jmLpcLtEu_qh",
        "outputId": "6cedbf04-5dec-469a-99bf-de91872d4feb"
      },
      "execution_count": null,
      "outputs": [
        {
          "output_type": "stream",
          "name": "stdout",
          "text": [
            "14\n"
          ]
        }
      ]
    },
    {
      "cell_type": "markdown",
      "source": [
        "\n",
        "Create a function which computes area and perimeter of a rectangle"
      ],
      "metadata": {
        "id": "Do0GkrCs_vtO"
      }
    },
    {
      "cell_type": "code",
      "source": [
        "def Rectangle(l,b):\n",
        "  area=l*b\n",
        "  peri=2*(l+b)\n",
        "  print(\"Area of Rectangle : \" ,area)\n",
        "  print(\"Parimeter of Rectangle : \",peri)"
      ],
      "metadata": {
        "id": "O6W6smt4vDEX"
      },
      "execution_count": 6,
      "outputs": []
    },
    {
      "cell_type": "code",
      "source": [
        "Rectangle(10,20)"
      ],
      "metadata": {
        "colab": {
          "base_uri": "https://localhost:8080/"
        },
        "id": "kwrxo8zu_17n",
        "outputId": "d923e390-6677-49ef-dd16-8bd5628e707d"
      },
      "execution_count": 7,
      "outputs": [
        {
          "output_type": "stream",
          "name": "stdout",
          "text": [
            "Area of Rectangle :  200\n",
            "Parimeter of Rectangle :  60\n"
          ]
        }
      ]
    },
    {
      "cell_type": "code",
      "source": [
        "Rectangle(5,25)"
      ],
      "metadata": {
        "colab": {
          "base_uri": "https://localhost:8080/"
        },
        "id": "adsBPNiY_14q",
        "outputId": "cf8e7007-b6e8-4c7f-96ad-3bf74410e813"
      },
      "execution_count": 8,
      "outputs": [
        {
          "output_type": "stream",
          "name": "stdout",
          "text": [
            "Area of Rectangle :  125\n",
            "Parimeter of Rectangle :  60\n"
          ]
        }
      ]
    },
    {
      "cell_type": "markdown",
      "source": [
        "Create a function which computes area and circumference of a circle"
      ],
      "metadata": {
        "id": "4cljPrZvBFVU"
      }
    },
    {
      "cell_type": "code",
      "source": [
        "def circle(r):\n",
        "  area=3.14*r**2\n",
        "  circumference=2*3.14*r\n",
        "  print(\"area of circle is : \",area)\n",
        "  print(\"Circle circumference is : \",circumference)"
      ],
      "metadata": {
        "id": "zA1kJJMe_1zz"
      },
      "execution_count": 9,
      "outputs": []
    },
    {
      "cell_type": "code",
      "source": [
        "circle(20)"
      ],
      "metadata": {
        "colab": {
          "base_uri": "https://localhost:8080/"
        },
        "id": "gEdfOVEl_1xQ",
        "outputId": "626c216e-0c58-443b-f65d-90d2fec8a16b"
      },
      "execution_count": 10,
      "outputs": [
        {
          "output_type": "stream",
          "name": "stdout",
          "text": [
            "area of circle is :  1256.0\n",
            "Circle circumference is :  125.60000000000001\n"
          ]
        }
      ]
    },
    {
      "cell_type": "code",
      "source": [
        "circle(5)"
      ],
      "metadata": {
        "colab": {
          "base_uri": "https://localhost:8080/"
        },
        "id": "snz3YX8r_1ug",
        "outputId": "daa078a8-9ecf-4fe1-c8ff-91c8797ecdb9"
      },
      "execution_count": 11,
      "outputs": [
        {
          "output_type": "stream",
          "name": "stdout",
          "text": [
            "area of circle is :  78.5\n",
            "Circle circumference is :  31.400000000000002\n"
          ]
        }
      ]
    },
    {
      "cell_type": "markdown",
      "source": [
        "Create a function to accept three numbers as parameters and display the largest number out of the three given numbers"
      ],
      "metadata": {
        "id": "7uVKHD8SBwNk"
      }
    },
    {
      "cell_type": "code",
      "source": [
        "def max(a,b,c):\n",
        "\n",
        "  if a>b and a>c:\n",
        "    print(\"a is largest\")\n",
        "\n",
        "  elif b>a and b>c:\n",
        "    print(\"b is largest\")\n",
        "\n",
        "  else:\n",
        "    print(\"c is largest\")"
      ],
      "metadata": {
        "id": "1c9HvT7n_1r-"
      },
      "execution_count": 12,
      "outputs": []
    },
    {
      "cell_type": "code",
      "source": [
        "max(100,20,25)"
      ],
      "metadata": {
        "colab": {
          "base_uri": "https://localhost:8080/"
        },
        "id": "FyFmSXxPB05C",
        "outputId": "79b9f793-a8b1-42d3-a19d-0f5a94ede42c"
      },
      "execution_count": 15,
      "outputs": [
        {
          "output_type": "stream",
          "name": "stdout",
          "text": [
            "a is largest\n"
          ]
        }
      ]
    },
    {
      "cell_type": "code",
      "source": [
        "max(10,50,25)"
      ],
      "metadata": {
        "colab": {
          "base_uri": "https://localhost:8080/"
        },
        "id": "kwRGOeNDB_bK",
        "outputId": "541dbd9e-873c-4f9c-8ac7-9ebdd29fae7f"
      },
      "execution_count": 14,
      "outputs": [
        {
          "output_type": "stream",
          "name": "stdout",
          "text": [
            "b is largest\n"
          ]
        }
      ]
    },
    {
      "cell_type": "code",
      "source": [
        "max(10,5,25)"
      ],
      "metadata": {
        "colab": {
          "base_uri": "https://localhost:8080/"
        },
        "id": "yxfDzKXRB_ZI",
        "outputId": "874b3037-2cb5-433e-e822-7e48af582faa"
      },
      "execution_count": 16,
      "outputs": [
        {
          "output_type": "stream",
          "name": "stdout",
          "text": [
            "c is largest\n"
          ]
        }
      ]
    },
    {
      "cell_type": "code",
      "source": [
        "def my_function():\n",
        "  print(\"Hello from a function\")"
      ],
      "metadata": {
        "id": "FW81O0BdB_Xa"
      },
      "execution_count": 17,
      "outputs": []
    },
    {
      "cell_type": "code",
      "source": [
        "my_function()"
      ],
      "metadata": {
        "colab": {
          "base_uri": "https://localhost:8080/"
        },
        "id": "PxKlu8aVB_Ty",
        "outputId": "1c5053a0-ae80-4872-ab8d-2b071ecf0e40"
      },
      "execution_count": 18,
      "outputs": [
        {
          "output_type": "stream",
          "name": "stdout",
          "text": [
            "Hello from a function\n"
          ]
        }
      ]
    },
    {
      "cell_type": "code",
      "source": [
        "def my_function(fname):\n",
        "  print(fname + \" Refsnes\")\n",
        "\n",
        "my_function(\"Emil\")\n",
        "my_function(\"Tobias\")\n",
        "my_function(\"Linus\")"
      ],
      "metadata": {
        "colab": {
          "base_uri": "https://localhost:8080/"
        },
        "id": "Dnz6RIRdB_P6",
        "outputId": "105e7263-052c-40b4-8e71-db2ff35219ce"
      },
      "execution_count": 19,
      "outputs": [
        {
          "output_type": "stream",
          "name": "stdout",
          "text": [
            "Emil Refsnes\n",
            "Tobias Refsnes\n",
            "Linus Refsnes\n"
          ]
        }
      ]
    },
    {
      "cell_type": "code",
      "source": [
        "def my_function(fname, lname):\n",
        "  print(fname + \" \" + lname)\n",
        "\n",
        "my_function(\"Emil\", \"Refsnes\")"
      ],
      "metadata": {
        "colab": {
          "base_uri": "https://localhost:8080/"
        },
        "id": "slUj86xXB_NX",
        "outputId": "b0382233-3de4-462a-d7e4-d774f40bc285"
      },
      "execution_count": 20,
      "outputs": [
        {
          "output_type": "stream",
          "name": "stdout",
          "text": [
            "Emil Refsnes\n"
          ]
        }
      ]
    },
    {
      "cell_type": "code",
      "source": [
        "def my_function(*kids):\n",
        "  print(\"The youngest child is \" + kids[2])\n",
        "\n",
        "my_function(\"Emil\", \"Tobias\", \"Linus\")"
      ],
      "metadata": {
        "colab": {
          "base_uri": "https://localhost:8080/"
        },
        "id": "wsE50YtZB_K-",
        "outputId": "c5264788-7cdf-4614-dede-43952f91e1f4"
      },
      "execution_count": 21,
      "outputs": [
        {
          "output_type": "stream",
          "name": "stdout",
          "text": [
            "The youngest child is Linus\n"
          ]
        }
      ]
    },
    {
      "cell_type": "code",
      "source": [
        "def my_function(child3, child2, child1):\n",
        "  print(\"The youngest child is \" + child3)\n",
        "\n",
        "my_function(child1 = \"Emil\", child2 = \"Tobias\", child3 = \"Linus\")"
      ],
      "metadata": {
        "colab": {
          "base_uri": "https://localhost:8080/"
        },
        "id": "RxMsY0PJB_IV",
        "outputId": "a4a6fa4d-b68e-4223-df62-f0e50fc91f6a"
      },
      "execution_count": 22,
      "outputs": [
        {
          "output_type": "stream",
          "name": "stdout",
          "text": [
            "The youngest child is Linus\n"
          ]
        }
      ]
    },
    {
      "cell_type": "code",
      "source": [
        "def my_function(**kid):\n",
        "  print(\"His last name is \" + kid[\"lname\"])\n",
        "\n",
        "my_function(fname = \"Tobias\", lname = \"Refsnes\")"
      ],
      "metadata": {
        "colab": {
          "base_uri": "https://localhost:8080/"
        },
        "id": "Nzn4HUhuDftE",
        "outputId": "ac7e1331-0933-4922-e03e-dcf1b2c138cc"
      },
      "execution_count": 23,
      "outputs": [
        {
          "output_type": "stream",
          "name": "stdout",
          "text": [
            "His last name is Refsnes\n"
          ]
        }
      ]
    },
    {
      "cell_type": "code",
      "source": [
        "def my_function(country = \"Norway\"):\n",
        "  print(\"I am from \" + country)\n",
        "\n",
        "my_function(\"Sweden\")\n",
        "my_function(\"India\")\n",
        "my_function()\n",
        "my_function(\"Brazil\")"
      ],
      "metadata": {
        "colab": {
          "base_uri": "https://localhost:8080/"
        },
        "id": "bzGa-DhbDfp6",
        "outputId": "52d7550e-591b-4e01-996f-a0a21c65af33"
      },
      "execution_count": 24,
      "outputs": [
        {
          "output_type": "stream",
          "name": "stdout",
          "text": [
            "I am from Sweden\n",
            "I am from India\n",
            "I am from Norway\n",
            "I am from Brazil\n"
          ]
        }
      ]
    },
    {
      "cell_type": "code",
      "source": [
        "def my_function(food):\n",
        "  for x in food:\n",
        "    print(x)\n",
        "\n",
        "fruits = [\"apple\", \"banana\", \"cherry\"]\n",
        "\n",
        "my_function(fruits)"
      ],
      "metadata": {
        "colab": {
          "base_uri": "https://localhost:8080/"
        },
        "id": "Wb_o57ckDfnV",
        "outputId": "51e5d9de-4d93-4ac3-e179-d02015e2c2d8"
      },
      "execution_count": 25,
      "outputs": [
        {
          "output_type": "stream",
          "name": "stdout",
          "text": [
            "apple\n",
            "banana\n",
            "cherry\n"
          ]
        }
      ]
    },
    {
      "cell_type": "code",
      "source": [
        "def my_function(x):\n",
        "  return 5 * x\n",
        "\n",
        "print(my_function(3))\n",
        "print(my_function(5))\n",
        "print(my_function(9))"
      ],
      "metadata": {
        "colab": {
          "base_uri": "https://localhost:8080/"
        },
        "id": "nExci75ZDfkx",
        "outputId": "664bed09-4a76-42e1-c7e4-fb2a7092b028"
      },
      "execution_count": 26,
      "outputs": [
        {
          "output_type": "stream",
          "name": "stdout",
          "text": [
            "15\n",
            "25\n",
            "45\n"
          ]
        }
      ]
    },
    {
      "cell_type": "code",
      "source": [
        "def myfunction():\n",
        "  pass"
      ],
      "metadata": {
        "id": "slsS3igADfhn"
      },
      "execution_count": 27,
      "outputs": []
    },
    {
      "cell_type": "code",
      "source": [
        "def tri_recursion(k):\n",
        "  if(k > 0):\n",
        "    result = k + tri_recursion(k - 1)\n",
        "    print(result)\n",
        "  else:\n",
        "    result = 0\n",
        "  return result\n",
        "\n",
        "print(\"\\n\\nRecursion Example Results\")\n",
        "tri_recursion(6)"
      ],
      "metadata": {
        "colab": {
          "base_uri": "https://localhost:8080/"
        },
        "id": "QbMga1pHD3_g",
        "outputId": "1df05ea3-78cb-4f83-b6cd-d290676ee989"
      },
      "execution_count": 28,
      "outputs": [
        {
          "output_type": "stream",
          "name": "stdout",
          "text": [
            "\n",
            "\n",
            "Recursion Example Results\n",
            "1\n",
            "3\n",
            "6\n",
            "10\n",
            "15\n",
            "21\n"
          ]
        },
        {
          "output_type": "execute_result",
          "data": {
            "text/plain": [
              "21"
            ]
          },
          "metadata": {},
          "execution_count": 28
        }
      ]
    },
    {
      "cell_type": "code",
      "source": [],
      "metadata": {
        "id": "WmLO9RDGD38y"
      },
      "execution_count": null,
      "outputs": []
    },
    {
      "cell_type": "code",
      "source": [],
      "metadata": {
        "id": "r9zEswgoD359"
      },
      "execution_count": null,
      "outputs": []
    },
    {
      "cell_type": "code",
      "source": [],
      "metadata": {
        "id": "hOz2JufXD33I"
      },
      "execution_count": null,
      "outputs": []
    },
    {
      "cell_type": "code",
      "source": [],
      "metadata": {
        "id": "ulWbobVZD30Y"
      },
      "execution_count": null,
      "outputs": []
    }
  ]
}