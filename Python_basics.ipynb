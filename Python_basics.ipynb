{
  "nbformat": 4,
  "nbformat_minor": 0,
  "metadata": {
    "colab": {
      "provenance": []
    },
    "kernelspec": {
      "name": "python3",
      "display_name": "Python 3"
    },
    "language_info": {
      "name": "python"
    }
  },
  "cells": [
    {
      "cell_type": "markdown",
      "source": [
        "To run a code cell -\n",
        "\n",
        "1. use the play button\n",
        "\n",
        "2. use shift+enter\n",
        "\n",
        "3. use ctrl+enter"
      ],
      "metadata": {
        "id": "oqLms_-xSY9S"
      }
    },
    {
      "cell_type": "markdown",
      "source": [
        "Datatypes"
      ],
      "metadata": {
        "id": "6AiPgNFcb36A"
      }
    },
    {
      "cell_type": "code",
      "source": [
        "a=300"
      ],
      "metadata": {
        "id": "UWDVVtH4b5Yy"
      },
      "execution_count": 40,
      "outputs": []
    },
    {
      "cell_type": "code",
      "source": [
        "type(a) "
      ],
      "metadata": {
        "colab": {
          "base_uri": "https://localhost:8080/"
        },
        "id": "0Mg4YSFxcCkE",
        "outputId": "8c2b8082-29a8-485a-94ca-335a111f5e0a"
      },
      "execution_count": 41,
      "outputs": [
        {
          "output_type": "execute_result",
          "data": {
            "text/plain": [
              "int"
            ]
          },
          "metadata": {},
          "execution_count": 41
        }
      ]
    },
    {
      "cell_type": "code",
      "source": [
        "b=-56"
      ],
      "metadata": {
        "id": "d7-8JpJScEfn"
      },
      "execution_count": 42,
      "outputs": []
    },
    {
      "cell_type": "code",
      "source": [
        "type(b)"
      ],
      "metadata": {
        "colab": {
          "base_uri": "https://localhost:8080/"
        },
        "id": "cIdK0_uXcKXR",
        "outputId": "60bfe404-cabf-4eb3-d9de-55e3a2a31a24"
      },
      "execution_count": 43,
      "outputs": [
        {
          "output_type": "execute_result",
          "data": {
            "text/plain": [
              "int"
            ]
          },
          "metadata": {},
          "execution_count": 43
        }
      ]
    },
    {
      "cell_type": "code",
      "source": [
        "c='India'"
      ],
      "metadata": {
        "id": "zHX54P4ZcKTi"
      },
      "execution_count": 44,
      "outputs": []
    },
    {
      "cell_type": "code",
      "source": [
        "print(c)"
      ],
      "metadata": {
        "colab": {
          "base_uri": "https://localhost:8080/"
        },
        "id": "6rIA-6Z8cKRw",
        "outputId": "3cc9be52-1df3-403b-af67-0e041fc3cea4"
      },
      "execution_count": 45,
      "outputs": [
        {
          "output_type": "stream",
          "name": "stdout",
          "text": [
            "India\n"
          ]
        }
      ]
    },
    {
      "cell_type": "code",
      "source": [
        "type(c)"
      ],
      "metadata": {
        "colab": {
          "base_uri": "https://localhost:8080/"
        },
        "id": "K4Ht_-sjcKOY",
        "outputId": "e61ceddc-9b1c-4b4e-8659-b6f3464a1329"
      },
      "execution_count": 46,
      "outputs": [
        {
          "output_type": "execute_result",
          "data": {
            "text/plain": [
              "str"
            ]
          },
          "metadata": {},
          "execution_count": 46
        }
      ]
    },
    {
      "cell_type": "code",
      "source": [
        "d='45.45'"
      ],
      "metadata": {
        "id": "kuu94yikcKNH"
      },
      "execution_count": 47,
      "outputs": []
    },
    {
      "cell_type": "code",
      "source": [
        "print(d)"
      ],
      "metadata": {
        "colab": {
          "base_uri": "https://localhost:8080/"
        },
        "id": "vyIOXFGzcURS",
        "outputId": "d0cd4e4d-dfdc-4d9f-8db6-fe5807e09c7e"
      },
      "execution_count": 48,
      "outputs": [
        {
          "output_type": "stream",
          "name": "stdout",
          "text": [
            "45.45\n"
          ]
        }
      ]
    },
    {
      "cell_type": "code",
      "source": [
        "type(d)"
      ],
      "metadata": {
        "colab": {
          "base_uri": "https://localhost:8080/"
        },
        "id": "kEE76v7lcWi-",
        "outputId": "a931482e-206e-4fdd-fecd-31d1575a4ed2"
      },
      "execution_count": 49,
      "outputs": [
        {
          "output_type": "execute_result",
          "data": {
            "text/plain": [
              "str"
            ]
          },
          "metadata": {},
          "execution_count": 49
        }
      ]
    },
    {
      "cell_type": "code",
      "source": [
        "e=['India','Japan','China','USA']"
      ],
      "metadata": {
        "id": "dcrZECcGcsA3"
      },
      "execution_count": 50,
      "outputs": []
    },
    {
      "cell_type": "code",
      "source": [
        "print(e)"
      ],
      "metadata": {
        "colab": {
          "base_uri": "https://localhost:8080/"
        },
        "id": "WG_QV_emcxQ3",
        "outputId": "2618173b-6008-4170-9b56-d4f2367d078d"
      },
      "execution_count": 51,
      "outputs": [
        {
          "output_type": "stream",
          "name": "stdout",
          "text": [
            "['India', 'Japan', 'China', 'USA']\n"
          ]
        }
      ]
    },
    {
      "cell_type": "code",
      "source": [
        "type(e)"
      ],
      "metadata": {
        "colab": {
          "base_uri": "https://localhost:8080/"
        },
        "id": "ZH5vkQ8ucyKs",
        "outputId": "a00c3f0d-b219-467d-acca-ec81ee814d02"
      },
      "execution_count": 52,
      "outputs": [
        {
          "output_type": "execute_result",
          "data": {
            "text/plain": [
              "list"
            ]
          },
          "metadata": {},
          "execution_count": 52
        }
      ]
    },
    {
      "cell_type": "code",
      "source": [
        "f=[3,4,5,6,7,8,9,10]"
      ],
      "metadata": {
        "id": "dVypRRF9c0BW"
      },
      "execution_count": 53,
      "outputs": []
    },
    {
      "cell_type": "code",
      "source": [
        "print(f)"
      ],
      "metadata": {
        "colab": {
          "base_uri": "https://localhost:8080/"
        },
        "id": "VvoUKkDFc9ZA",
        "outputId": "07f87f08-bb99-47da-9f0e-0ee34e97a355"
      },
      "execution_count": 54,
      "outputs": [
        {
          "output_type": "stream",
          "name": "stdout",
          "text": [
            "[3, 4, 5, 6, 7, 8, 9, 10]\n"
          ]
        }
      ]
    },
    {
      "cell_type": "code",
      "source": [
        "type(f)"
      ],
      "metadata": {
        "colab": {
          "base_uri": "https://localhost:8080/"
        },
        "id": "d2WSGaI4c_gS",
        "outputId": "bf8f5ce3-2e03-4cef-9651-202c0e4f3343"
      },
      "execution_count": 55,
      "outputs": [
        {
          "output_type": "execute_result",
          "data": {
            "text/plain": [
              "list"
            ]
          },
          "metadata": {},
          "execution_count": 55
        }
      ]
    },
    {
      "cell_type": "code",
      "source": [
        "g=['India','USA',45,90,-35,-100.00,-30.20]"
      ],
      "metadata": {
        "id": "jv8PZ-5JdFy4"
      },
      "execution_count": 57,
      "outputs": []
    },
    {
      "cell_type": "code",
      "source": [
        "print(g)"
      ],
      "metadata": {
        "colab": {
          "base_uri": "https://localhost:8080/"
        },
        "id": "MLOYu6HGdFwI",
        "outputId": "ba9ed262-7062-4e24-8317-d249dfe98fdb"
      },
      "execution_count": 58,
      "outputs": [
        {
          "output_type": "stream",
          "name": "stdout",
          "text": [
            "['India', 'USA', 45, 90, -35, -100.0, -30.2]\n"
          ]
        }
      ]
    },
    {
      "cell_type": "code",
      "source": [
        "type(g)"
      ],
      "metadata": {
        "colab": {
          "base_uri": "https://localhost:8080/"
        },
        "id": "f3jWBpZRdFt9",
        "outputId": "234f848a-9ca6-4ca4-c63a-407462f0b0c5"
      },
      "execution_count": 59,
      "outputs": [
        {
          "output_type": "execute_result",
          "data": {
            "text/plain": [
              "list"
            ]
          },
          "metadata": {},
          "execution_count": 59
        }
      ]
    },
    {
      "cell_type": "code",
      "source": [
        "a=50\n",
        "b=20"
      ],
      "metadata": {
        "id": "e7LJPAXpdn52"
      },
      "execution_count": 60,
      "outputs": []
    },
    {
      "cell_type": "code",
      "source": [
        "print(a>b)"
      ],
      "metadata": {
        "colab": {
          "base_uri": "https://localhost:8080/"
        },
        "id": "06OiZFGJdqW9",
        "outputId": "3b4e4ebe-0dd1-4691-f480-aeefbd60bd71"
      },
      "execution_count": 61,
      "outputs": [
        {
          "output_type": "stream",
          "name": "stdout",
          "text": [
            "True\n"
          ]
        }
      ]
    },
    {
      "cell_type": "code",
      "source": [
        "type(a>b)"
      ],
      "metadata": {
        "colab": {
          "base_uri": "https://localhost:8080/"
        },
        "id": "bseO-4ISdtX4",
        "outputId": "d00ab286-be1c-4f37-d7eb-6dc040b4eeee"
      },
      "execution_count": 62,
      "outputs": [
        {
          "output_type": "execute_result",
          "data": {
            "text/plain": [
              "bool"
            ]
          },
          "metadata": {},
          "execution_count": 62
        }
      ]
    },
    {
      "cell_type": "markdown",
      "source": [
        "Typecasting in Python"
      ],
      "metadata": {
        "id": "VEco_ekXRtZ6"
      }
    },
    {
      "cell_type": "code",
      "source": [
        "name=input(\"enter your name\")"
      ],
      "metadata": {
        "colab": {
          "base_uri": "https://localhost:8080/"
        },
        "id": "aSHHz2diRpzr",
        "outputId": "b5483b93-1cd5-4010-fbc3-44f76968243a"
      },
      "execution_count": null,
      "outputs": [
        {
          "name": "stdout",
          "output_type": "stream",
          "text": [
            "enter your nameAashutosh\n"
          ]
        }
      ]
    },
    {
      "cell_type": "code",
      "source": [
        "print(name)"
      ],
      "metadata": {
        "colab": {
          "base_uri": "https://localhost:8080/"
        },
        "id": "ZIcmq_TiRpqJ",
        "outputId": "13ad98ba-9778-4d29-9fd0-84957d338921"
      },
      "execution_count": null,
      "outputs": [
        {
          "output_type": "stream",
          "name": "stdout",
          "text": [
            "Aashutosh\n"
          ]
        }
      ]
    },
    {
      "cell_type": "code",
      "source": [
        "type(name)"
      ],
      "metadata": {
        "colab": {
          "base_uri": "https://localhost:8080/"
        },
        "id": "HLUqSGXLRphr",
        "outputId": "b0997372-26cf-41c2-898f-a81cefe3fefe"
      },
      "execution_count": null,
      "outputs": [
        {
          "output_type": "execute_result",
          "data": {
            "text/plain": [
              "str"
            ]
          },
          "metadata": {},
          "execution_count": 3
        }
      ]
    },
    {
      "cell_type": "code",
      "source": [
        "otp=int(input(\"enter your otp\"))"
      ],
      "metadata": {
        "id": "eUFbGmXTRpZn",
        "colab": {
          "base_uri": "https://localhost:8080/"
        },
        "outputId": "c7bccb0e-1988-4d97-e9f4-cd6d80ddc591"
      },
      "execution_count": 11,
      "outputs": [
        {
          "name": "stdout",
          "output_type": "stream",
          "text": [
            "enter your otp7845\n"
          ]
        }
      ]
    },
    {
      "cell_type": "code",
      "source": [
        "print(otp)"
      ],
      "metadata": {
        "id": "UZ0Pr-IKRpPx",
        "colab": {
          "base_uri": "https://localhost:8080/"
        },
        "outputId": "2acd7c7b-3bf1-4ead-c35a-c1f27d1af6dc"
      },
      "execution_count": 12,
      "outputs": [
        {
          "output_type": "stream",
          "name": "stdout",
          "text": [
            "7845\n"
          ]
        }
      ]
    },
    {
      "cell_type": "code",
      "execution_count": 13,
      "metadata": {
        "id": "_GRqFoARRHyX",
        "colab": {
          "base_uri": "https://localhost:8080/"
        },
        "outputId": "01625cd0-9c9e-4701-b60f-b1937ad64737"
      },
      "outputs": [
        {
          "output_type": "execute_result",
          "data": {
            "text/plain": [
              "int"
            ]
          },
          "metadata": {},
          "execution_count": 13
        }
      ],
      "source": [
        "type(otp)"
      ]
    },
    {
      "cell_type": "code",
      "source": [
        "temp=float(input(\"enter temp of your city\"))"
      ],
      "metadata": {
        "colab": {
          "base_uri": "https://localhost:8080/"
        },
        "id": "4Lu-gQ07YK8W",
        "outputId": "3b54aaa0-3524-4625-a8d0-6c63a05577f1"
      },
      "execution_count": 20,
      "outputs": [
        {
          "name": "stdout",
          "output_type": "stream",
          "text": [
            "enter temp of your city43\n"
          ]
        }
      ]
    },
    {
      "cell_type": "code",
      "source": [
        "print(temp)"
      ],
      "metadata": {
        "colab": {
          "base_uri": "https://localhost:8080/"
        },
        "id": "ps83z7INYK3-",
        "outputId": "94af93e8-ae1c-4e79-c4e1-97f2395771b8"
      },
      "execution_count": 21,
      "outputs": [
        {
          "output_type": "stream",
          "name": "stdout",
          "text": [
            "43.0\n"
          ]
        }
      ]
    },
    {
      "cell_type": "code",
      "source": [
        "type(temp)"
      ],
      "metadata": {
        "colab": {
          "base_uri": "https://localhost:8080/"
        },
        "id": "T84TWvkEYKx_",
        "outputId": "d66bffdb-fbeb-4e51-eb13-950b88627654"
      },
      "execution_count": 22,
      "outputs": [
        {
          "output_type": "execute_result",
          "data": {
            "text/plain": [
              "float"
            ]
          },
          "metadata": {},
          "execution_count": 22
        }
      ]
    },
    {
      "cell_type": "markdown",
      "source": [
        "Mathematical operators\n",
        "\n",
        "+,-,*,/,//,**,%"
      ],
      "metadata": {
        "id": "iUEcdpQlZdgE"
      }
    },
    {
      "cell_type": "code",
      "source": [
        "a=10\n",
        "b=3"
      ],
      "metadata": {
        "id": "oLc9qEt0YKsP"
      },
      "execution_count": 23,
      "outputs": []
    },
    {
      "cell_type": "code",
      "source": [
        "print(a)"
      ],
      "metadata": {
        "colab": {
          "base_uri": "https://localhost:8080/"
        },
        "id": "pFIYaX2IYKme",
        "outputId": "36f8a0e0-4d5f-47a1-85b5-66c4098705d5"
      },
      "execution_count": 24,
      "outputs": [
        {
          "output_type": "stream",
          "name": "stdout",
          "text": [
            "10\n"
          ]
        }
      ]
    },
    {
      "cell_type": "code",
      "source": [
        "print(b)"
      ],
      "metadata": {
        "colab": {
          "base_uri": "https://localhost:8080/"
        },
        "id": "2KFFGqAlYKgr",
        "outputId": "f3eaec7a-183c-4daa-ebe9-d2a287a6f063"
      },
      "execution_count": 25,
      "outputs": [
        {
          "output_type": "stream",
          "name": "stdout",
          "text": [
            "3\n"
          ]
        }
      ]
    },
    {
      "cell_type": "code",
      "source": [
        "print(a+b)"
      ],
      "metadata": {
        "colab": {
          "base_uri": "https://localhost:8080/"
        },
        "id": "gXfYEeCTYKZ5",
        "outputId": "77371854-1092-4342-d922-36bc67c9785a"
      },
      "execution_count": 26,
      "outputs": [
        {
          "output_type": "stream",
          "name": "stdout",
          "text": [
            "13\n"
          ]
        }
      ]
    },
    {
      "cell_type": "code",
      "source": [
        "c=a+b"
      ],
      "metadata": {
        "id": "6tif-enFYKVQ"
      },
      "execution_count": 27,
      "outputs": []
    },
    {
      "cell_type": "code",
      "source": [
        "print(c)"
      ],
      "metadata": {
        "colab": {
          "base_uri": "https://localhost:8080/"
        },
        "id": "Cp62Ng6oYKP2",
        "outputId": "1f19301a-6c94-4fa5-87da-ef1eedf17e5b"
      },
      "execution_count": 28,
      "outputs": [
        {
          "output_type": "stream",
          "name": "stdout",
          "text": [
            "13\n"
          ]
        }
      ]
    },
    {
      "cell_type": "code",
      "source": [
        "print(a-b)"
      ],
      "metadata": {
        "colab": {
          "base_uri": "https://localhost:8080/"
        },
        "id": "g4Zf4JE_YKJm",
        "outputId": "b27c09a9-7c05-408d-97ae-4a94ebf3210a"
      },
      "execution_count": 29,
      "outputs": [
        {
          "output_type": "stream",
          "name": "stdout",
          "text": [
            "7\n"
          ]
        }
      ]
    },
    {
      "cell_type": "code",
      "source": [
        "d=a-b"
      ],
      "metadata": {
        "id": "uvRM6QjKaCEN"
      },
      "execution_count": 30,
      "outputs": []
    },
    {
      "cell_type": "code",
      "source": [
        "print(d)"
      ],
      "metadata": {
        "colab": {
          "base_uri": "https://localhost:8080/"
        },
        "id": "9v570P8WaEPQ",
        "outputId": "0b8fc82b-fafc-4268-80ae-c86e8d8e18f0"
      },
      "execution_count": 31,
      "outputs": [
        {
          "output_type": "stream",
          "name": "stdout",
          "text": [
            "7\n"
          ]
        }
      ]
    },
    {
      "cell_type": "code",
      "source": [
        "print(a*b)"
      ],
      "metadata": {
        "colab": {
          "base_uri": "https://localhost:8080/"
        },
        "id": "fNqzW1hFaE1Q",
        "outputId": "cef268e3-f797-4c77-e97b-cd696daf0971"
      },
      "execution_count": 32,
      "outputs": [
        {
          "output_type": "stream",
          "name": "stdout",
          "text": [
            "30\n"
          ]
        }
      ]
    },
    {
      "cell_type": "code",
      "source": [
        "print(a//b)"
      ],
      "metadata": {
        "colab": {
          "base_uri": "https://localhost:8080/"
        },
        "id": "0seEG7tTaH8G",
        "outputId": "18548e3d-69fa-49e8-ac49-477674ca0953"
      },
      "execution_count": 33,
      "outputs": [
        {
          "output_type": "stream",
          "name": "stdout",
          "text": [
            "3\n"
          ]
        }
      ]
    },
    {
      "cell_type": "code",
      "source": [
        "print(a/b)"
      ],
      "metadata": {
        "colab": {
          "base_uri": "https://localhost:8080/"
        },
        "id": "lxBkHecgaOH_",
        "outputId": "13ba23f9-0a66-465d-d927-22fefdcdaa28"
      },
      "execution_count": 34,
      "outputs": [
        {
          "output_type": "stream",
          "name": "stdout",
          "text": [
            "3.3333333333333335\n"
          ]
        }
      ]
    },
    {
      "cell_type": "markdown",
      "source": [
        "Compute 2 to the power 5"
      ],
      "metadata": {
        "id": "NJh_ZBJDa0qJ"
      }
    },
    {
      "cell_type": "code",
      "source": [
        "print(2*2*2*2*2)"
      ],
      "metadata": {
        "colab": {
          "base_uri": "https://localhost:8080/"
        },
        "id": "pqSBOdisapiu",
        "outputId": "95fee0ef-4904-4335-dde2-7821bdad4134"
      },
      "execution_count": 35,
      "outputs": [
        {
          "output_type": "stream",
          "name": "stdout",
          "text": [
            "32\n"
          ]
        }
      ]
    },
    {
      "cell_type": "code",
      "source": [
        "print(2**5)"
      ],
      "metadata": {
        "colab": {
          "base_uri": "https://localhost:8080/"
        },
        "id": "d7MIIggNa6JF",
        "outputId": "8386db15-a5e0-4ff2-8786-8a2a103e5220"
      },
      "execution_count": 36,
      "outputs": [
        {
          "output_type": "stream",
          "name": "stdout",
          "text": [
            "32\n"
          ]
        }
      ]
    },
    {
      "cell_type": "markdown",
      "source": [
        "Compute 2 to the power 5"
      ],
      "metadata": {
        "id": "WB-WhaXcbBed"
      }
    },
    {
      "cell_type": "code",
      "source": [
        "print(2**25)"
      ],
      "metadata": {
        "colab": {
          "base_uri": "https://localhost:8080/"
        },
        "id": "foDOA4k8a9N_",
        "outputId": "1ff4a44c-7b3a-45e5-8229-260302e5a727"
      },
      "execution_count": 37,
      "outputs": [
        {
          "output_type": "stream",
          "name": "stdout",
          "text": [
            "33554432\n"
          ]
        }
      ]
    },
    {
      "cell_type": "code",
      "source": [
        "print(a%b)"
      ],
      "metadata": {
        "colab": {
          "base_uri": "https://localhost:8080/"
        },
        "id": "9-TCepmFbDYU",
        "outputId": "a9380a91-f86e-4395-be29-78fb623fe14c"
      },
      "execution_count": 38,
      "outputs": [
        {
          "output_type": "stream",
          "name": "stdout",
          "text": [
            "1\n"
          ]
        }
      ]
    },
    {
      "cell_type": "code",
      "source": [
        "c=15\n",
        "d=2\n",
        "print(c%d)"
      ],
      "metadata": {
        "colab": {
          "base_uri": "https://localhost:8080/"
        },
        "id": "l2TbbeLQbep8",
        "outputId": "47f2d1d4-4086-466e-90e1-87a37ebbc62e"
      },
      "execution_count": 39,
      "outputs": [
        {
          "output_type": "stream",
          "name": "stdout",
          "text": [
            "1\n"
          ]
        }
      ]
    },
    {
      "cell_type": "markdown",
      "source": [
        "Operations on Strings and Lists\n",
        "\n",
        "1. Concatination\n",
        "\n",
        "2. Indexing\n",
        "\n",
        "3. Slicing"
      ],
      "metadata": {
        "id": "a5-a-O4jdZVw"
      }
    },
    {
      "cell_type": "code",
      "source": [
        "#concatination in strings\n",
        "a='Indian'\n",
        "b='Ocean'"
      ],
      "metadata": {
        "id": "d1PjlBtwbj1m"
      },
      "execution_count": 64,
      "outputs": []
    },
    {
      "cell_type": "code",
      "source": [
        "print(a+b)"
      ],
      "metadata": {
        "colab": {
          "base_uri": "https://localhost:8080/"
        },
        "id": "vk6k2HL6f6F-",
        "outputId": "b38c4ef2-b098-410c-aeec-8f3d304f9ad8"
      },
      "execution_count": 65,
      "outputs": [
        {
          "output_type": "stream",
          "name": "stdout",
          "text": [
            "IndianOcean\n"
          ]
        }
      ]
    },
    {
      "cell_type": "code",
      "source": [
        "print(a+' '+b)#space between indian and ocean"
      ],
      "metadata": {
        "colab": {
          "base_uri": "https://localhost:8080/"
        },
        "id": "-vfdOY5CgIT3",
        "outputId": "5964cafe-af20-4d1b-bb13-5aed3ee79113"
      },
      "execution_count": 66,
      "outputs": [
        {
          "output_type": "stream",
          "name": "stdout",
          "text": [
            "Indian Ocean\n"
          ]
        }
      ]
    },
    {
      "cell_type": "code",
      "source": [
        "a='Indian'\n",
        "b='Ocean'\n",
        "c='Our'"
      ],
      "metadata": {
        "id": "L4FurWgvgQ_q"
      },
      "execution_count": 67,
      "outputs": []
    },
    {
      "cell_type": "code",
      "source": [
        "print(c+a+b)"
      ],
      "metadata": {
        "colab": {
          "base_uri": "https://localhost:8080/"
        },
        "id": "VTcbhXqkgbdy",
        "outputId": "ed8681b1-4c39-427a-ae62-fd8b74fc32a3"
      },
      "execution_count": 68,
      "outputs": [
        {
          "output_type": "stream",
          "name": "stdout",
          "text": [
            "OurIndianOcean\n"
          ]
        }
      ]
    },
    {
      "cell_type": "code",
      "source": [
        "print(c+' '+a+' '+b)"
      ],
      "metadata": {
        "colab": {
          "base_uri": "https://localhost:8080/"
        },
        "id": "4qMehb_Cgci6",
        "outputId": "02252993-80b3-4b76-bf1b-d81adafba903"
      },
      "execution_count": 69,
      "outputs": [
        {
          "output_type": "stream",
          "name": "stdout",
          "text": [
            "Our Indian Ocean\n"
          ]
        }
      ]
    },
    {
      "cell_type": "code",
      "source": [
        "#concatination in lists\n",
        "l1=[2,3,4,5,6]\n",
        "l2=['India','Japan','China']"
      ],
      "metadata": {
        "id": "RLUkYhXrghV6"
      },
      "execution_count": 71,
      "outputs": []
    },
    {
      "cell_type": "code",
      "source": [
        "print(l1+l2)"
      ],
      "metadata": {
        "colab": {
          "base_uri": "https://localhost:8080/"
        },
        "id": "c6-HAkIEg3Eg",
        "outputId": "5a493da0-778c-4601-9ec7-af925ee9e886"
      },
      "execution_count": 72,
      "outputs": [
        {
          "output_type": "stream",
          "name": "stdout",
          "text": [
            "[2, 3, 4, 5, 6, 'India', 'Japan', 'China']\n"
          ]
        }
      ]
    },
    {
      "cell_type": "code",
      "source": [
        "print(l2+l1)"
      ],
      "metadata": {
        "colab": {
          "base_uri": "https://localhost:8080/"
        },
        "id": "bmix41QCg-Dh",
        "outputId": "30a12c80-efe0-4f83-b87d-b074dfbd9e6a"
      },
      "execution_count": 73,
      "outputs": [
        {
          "output_type": "stream",
          "name": "stdout",
          "text": [
            "['India', 'Japan', 'China', 2, 3, 4, 5, 6]\n"
          ]
        }
      ]
    },
    {
      "cell_type": "code",
      "source": [
        "name=input(\"enter your name\")\n",
        "a='Hi'\n",
        "b='good morning,'\n",
        "c='How are you ?'\n",
        "\n",
        "print(a+' '+name+' '+b+' '+c)"
      ],
      "metadata": {
        "colab": {
          "base_uri": "https://localhost:8080/"
        },
        "id": "jlvcDbdng_p5",
        "outputId": "c8210914-af51-426c-ff33-4b6dcc21d530"
      },
      "execution_count": 78,
      "outputs": [
        {
          "output_type": "stream",
          "name": "stdout",
          "text": [
            "enter your nameKota\n",
            "Hi Kota good morning, How are you ?\n"
          ]
        }
      ]
    },
    {
      "cell_type": "code",
      "source": [],
      "metadata": {
        "id": "z3MLoOskhXIo"
      },
      "execution_count": 77,
      "outputs": []
    }
  ]
}