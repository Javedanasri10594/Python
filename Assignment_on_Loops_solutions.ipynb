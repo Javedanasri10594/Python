{
  "nbformat": 4,
  "nbformat_minor": 0,
  "metadata": {
    "colab": {
      "provenance": []
    },
    "kernelspec": {
      "name": "python3",
      "display_name": "Python 3"
    },
    "language_info": {
      "name": "python"
    }
  },
  "cells": [
    {
      "cell_type": "markdown",
      "source": [
        "Write a program which accepts month's name as input and display the number of days in the month as output"
      ],
      "metadata": {
        "id": "MdAkQQ_Y4wwG"
      }
    },
    {
      "cell_type": "code",
      "source": [
        "month_name = input(\"Input the name of Month: \")\n",
        "\n",
        "if month_name == \"February\":\n",
        "\tprint(\"No. of days: 28/29 days\")\n",
        "elif month_name in (\"April\", \"June\", \"September\", \"November\"):\n",
        "\tprint(\"No. of days: 30 days\")\n",
        "elif month_name in (\"January\", \"March\", \"May\", \"July\", \"August\", \"October\", \"December\"):\n",
        "\tprint(\"No. of days: 31 day\")\n",
        "else:\n",
        "\tprint(\"Wrong month name\")"
      ],
      "metadata": {
        "id": "Wy7YDWmc7jML",
        "colab": {
          "base_uri": "https://localhost:8080/"
        },
        "outputId": "f151b4b9-3ded-4e04-ddb3-e4c7cc48d31f"
      },
      "execution_count": null,
      "outputs": [
        {
          "output_type": "stream",
          "name": "stdout",
          "text": [
            "Input the name of Month: June\n",
            "No. of days: 30 days\n"
          ]
        }
      ]
    },
    {
      "cell_type": "markdown",
      "source": [
        "Take any word as input from the user and count the number of vowels in the word"
      ],
      "metadata": {
        "id": "Q8cCBC198J6M"
      }
    },
    {
      "cell_type": "code",
      "source": [
        "word = input(\"Enter a word : \")\n",
        "\n",
        "vowel_count = 0\n",
        "vowels = \"aeiouAEIOU\"\n",
        "\n",
        "for char in word:\n",
        "    if char in vowels:\n",
        "        vowel_count += 1\n",
        "\n",
        "print(f\"The number of vowels in the word '{word}' is {vowel_count}.\")\n"
      ],
      "metadata": {
        "id": "5ROilgXoBy32",
        "colab": {
          "base_uri": "https://localhost:8080/"
        },
        "outputId": "05c72119-e991-4597-d935-7f8aa904fc4f"
      },
      "execution_count": 3,
      "outputs": [
        {
          "output_type": "stream",
          "name": "stdout",
          "text": [
            "Enter a word : ae\n",
            "The number of vowels in the word 'ae' is 2.\n"
          ]
        }
      ]
    },
    {
      "cell_type": "markdown",
      "source": [
        "Write a program to separate even and odd numbers in two distinct lists from a list of numbers of your choice"
      ],
      "metadata": {
        "id": "1ugWwVXd49OI"
      }
    },
    {
      "cell_type": "code",
      "source": [
        "my_list=[34,78,44,23,11,12,93]\n",
        "\n",
        "even=[]\n",
        "odd=[]\n",
        "\n",
        "for i in my_list:\n",
        "\n",
        "  if i%2==0:\n",
        "    even.append(i)\n",
        "\n",
        "  else:\n",
        "    odd.append(i)\n",
        "\n",
        "print(even)\n",
        "print(odd)"
      ],
      "metadata": {
        "id": "dP7_bUh37i2D",
        "colab": {
          "base_uri": "https://localhost:8080/"
        },
        "outputId": "5b2b3e49-8012-4213-eba7-21ddc137f7d0"
      },
      "execution_count": null,
      "outputs": [
        {
          "output_type": "stream",
          "name": "stdout",
          "text": [
            "[34, 78, 44, 12]\n",
            "[23, 11, 93]\n"
          ]
        }
      ]
    },
    {
      "cell_type": "markdown",
      "source": [
        "Write a program that appends datatype of elements from a list to a separate list"
      ],
      "metadata": {
        "id": "uaqnGrhs49Mf"
      }
    },
    {
      "cell_type": "code",
      "source": [
        "my_list=['India','USA',35,-4.55]\n",
        "\n",
        "d_list=[]\n",
        "\n",
        "for i in my_list:\n",
        "  d_list.append(type(i))\n",
        "\n",
        "print(d_list)"
      ],
      "metadata": {
        "id": "RH9DVuFT7ibC",
        "colab": {
          "base_uri": "https://localhost:8080/"
        },
        "outputId": "af2b81a3-7498-44ce-9423-f937f8276e3b"
      },
      "execution_count": null,
      "outputs": [
        {
          "output_type": "stream",
          "name": "stdout",
          "text": [
            "[<class 'str'>, <class 'str'>, <class 'int'>, <class 'float'>]\n"
          ]
        }
      ]
    },
    {
      "cell_type": "markdown",
      "source": [
        "Write a program to display only those numbers from a list that satisfies the following conditions:\n",
        "\n",
        "1. The number must be divisible by 7\n",
        "\n",
        "2. If the number is greater than 140 then skip it and move to the next number in the list\n",
        "\n",
        "3. If the number in the list is greater than 630 then stop the loop"
      ],
      "metadata": {
        "id": "ddMu0Pj1643Y"
      }
    },
    {
      "cell_type": "code",
      "execution_count": null,
      "metadata": {
        "id": "QxFeRtW34rJV",
        "colab": {
          "base_uri": "https://localhost:8080/"
        },
        "outputId": "d88e1a54-9440-4b57-c1bf-b44d3eb1ce62"
      },
      "outputs": [
        {
          "output_type": "stream",
          "name": "stdout",
          "text": [
            "70\n",
            "210\n",
            "525\n"
          ]
        }
      ],
      "source": [
        "numbers = [17, 70, 140, 210, 145, 525, 700]\n",
        "\n",
        "for i in numbers:\n",
        "    if i > 630:\n",
        "        break\n",
        "    elif i == 140:\n",
        "        continue\n",
        "    # check if number is divisible by 7\n",
        "    elif i % 7 == 0:\n",
        "        print(i)"
      ]
    },
    {
      "cell_type": "code",
      "source": [],
      "metadata": {
        "id": "AQmh9o8PAZ9V"
      },
      "execution_count": null,
      "outputs": []
    }
  ]
}