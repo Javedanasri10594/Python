{
  "nbformat": 4,
  "nbformat_minor": 0,
  "metadata": {
    "colab": {
      "provenance": []
    },
    "kernelspec": {
      "name": "python3",
      "display_name": "Python 3"
    },
    "language_info": {
      "name": "python"
    }
  },
  "cells": [
    {
      "cell_type": "markdown",
      "source": [
        "***Arrays are used to store multiple values in one single variable***"
      ],
      "metadata": {
        "id": "n7Y9xrnuxMwH"
      }
    },
    {
      "cell_type": "code",
      "execution_count": 6,
      "metadata": {
        "id": "bXsRC5hNw5ry"
      },
      "outputs": [],
      "source": [
        "veg=[\"Tomato\",\"Onion\",\"Potato\",\"carrot\",\"peas\",\"Cabbage\",\"Letture\"]"
      ]
    },
    {
      "cell_type": "code",
      "source": [
        "veg_01=\"Tomato\"\n",
        "veg_02=\"Onion\"\n",
        "veg_03=\"Potato\"\n",
        "veg_04=\"carrot\"\n",
        "veg_05=\"peas\"\n",
        "veg_06=\"Cabbage\"\n",
        "veg_07=\"Letture\""
      ],
      "metadata": {
        "id": "IYgGRQz6y_Zu"
      },
      "execution_count": 7,
      "outputs": []
    },
    {
      "cell_type": "code",
      "source": [
        "print(veg_01)\n",
        "print(veg_02)\n",
        "print(veg_03)\n",
        "print(veg_04)\n",
        "print(veg_05)\n",
        "print(veg_06)\n",
        "print(veg_07)"
      ],
      "metadata": {
        "colab": {
          "base_uri": "https://localhost:8080/"
        },
        "id": "qIdLfEeT6RJd",
        "outputId": "ae3273cc-c2b4-4777-d84f-7c176fb783b7"
      },
      "execution_count": 32,
      "outputs": [
        {
          "output_type": "stream",
          "name": "stdout",
          "text": [
            "Tomato\n",
            "Onion\n",
            "Potato\n",
            "carrot\n",
            "peas\n",
            "Cabbage\n",
            "Letture\n"
          ]
        }
      ]
    },
    {
      "cell_type": "code",
      "source": [
        "x=veg[0]"
      ],
      "metadata": {
        "id": "CWaEBNqvz5DN"
      },
      "execution_count": 9,
      "outputs": []
    },
    {
      "cell_type": "code",
      "source": [
        "print(x)"
      ],
      "metadata": {
        "colab": {
          "base_uri": "https://localhost:8080/"
        },
        "id": "RhpOX2J4z5A0",
        "outputId": "e54d1060-36e8-4d23-c82a-7705284e675c"
      },
      "execution_count": 10,
      "outputs": [
        {
          "output_type": "stream",
          "name": "stdout",
          "text": [
            "Tomato\n"
          ]
        }
      ]
    },
    {
      "cell_type": "code",
      "source": [
        "x=veg[2]"
      ],
      "metadata": {
        "id": "LmdfoMv-z4-P"
      },
      "execution_count": 11,
      "outputs": []
    },
    {
      "cell_type": "code",
      "source": [
        "print(x)"
      ],
      "metadata": {
        "colab": {
          "base_uri": "https://localhost:8080/"
        },
        "id": "djakh5q4z47Y",
        "outputId": "2f13354f-77eb-4f83-e20f-2b53582227f4"
      },
      "execution_count": 12,
      "outputs": [
        {
          "output_type": "stream",
          "name": "stdout",
          "text": [
            "Potato\n"
          ]
        }
      ]
    },
    {
      "cell_type": "code",
      "source": [
        "len(veg)"
      ],
      "metadata": {
        "colab": {
          "base_uri": "https://localhost:8080/"
        },
        "id": "fBVOXMf0z44t",
        "outputId": "66f1736a-c56e-48d1-e97e-91f87297baf8"
      },
      "execution_count": 14,
      "outputs": [
        {
          "output_type": "execute_result",
          "data": {
            "text/plain": [
              "7"
            ]
          },
          "metadata": {},
          "execution_count": 14
        }
      ]
    },
    {
      "cell_type": "markdown",
      "source": [
        "***Looping Array Elements***"
      ],
      "metadata": {
        "id": "X7L8WRMU1YRb"
      }
    },
    {
      "cell_type": "code",
      "source": [
        "for x in veg:\n",
        "  print(x)"
      ],
      "metadata": {
        "colab": {
          "base_uri": "https://localhost:8080/"
        },
        "id": "6fWUFWl3z42A",
        "outputId": "8a1475d2-b6c8-49b8-ce20-a67972d96b1e"
      },
      "execution_count": 15,
      "outputs": [
        {
          "output_type": "stream",
          "name": "stdout",
          "text": [
            "Tomato\n",
            "Onion\n",
            "Potato\n",
            "carrot\n",
            "peas\n",
            "Cabbage\n",
            "Letture\n"
          ]
        }
      ]
    },
    {
      "cell_type": "markdown",
      "source": [
        "***Adding Array Elements***"
      ],
      "metadata": {
        "id": "3MoKQDIe1cQE"
      }
    },
    {
      "cell_type": "code",
      "source": [
        "veg.append(\"Garlic\")"
      ],
      "metadata": {
        "id": "-VnubSFL1Tii"
      },
      "execution_count": 17,
      "outputs": []
    },
    {
      "cell_type": "code",
      "source": [
        "print(veg)"
      ],
      "metadata": {
        "colab": {
          "base_uri": "https://localhost:8080/"
        },
        "id": "WCEE6Mct1TfD",
        "outputId": "54417dbc-8ca1-4998-92d9-d8b28f3757ba"
      },
      "execution_count": 18,
      "outputs": [
        {
          "output_type": "stream",
          "name": "stdout",
          "text": [
            "['Tomato', 'Onion', 'Potato', 'carrot', 'peas', 'Cabbage', 'Letture', 'Garlic']\n"
          ]
        }
      ]
    },
    {
      "cell_type": "markdown",
      "source": [
        "***Removing Array Elements***"
      ],
      "metadata": {
        "id": "znMaMwhw2DIS"
      }
    },
    {
      "cell_type": "code",
      "source": [
        "veg.pop(1)"
      ],
      "metadata": {
        "colab": {
          "base_uri": "https://localhost:8080/",
          "height": 36
        },
        "id": "eGtzGv5c1Tcv",
        "outputId": "668daa35-2436-4c34-a894-eab489450ed7"
      },
      "execution_count": 19,
      "outputs": [
        {
          "output_type": "execute_result",
          "data": {
            "text/plain": [
              "'Onion'"
            ],
            "application/vnd.google.colaboratory.intrinsic+json": {
              "type": "string"
            }
          },
          "metadata": {},
          "execution_count": 19
        }
      ]
    },
    {
      "cell_type": "code",
      "source": [
        "print(veg)"
      ],
      "metadata": {
        "colab": {
          "base_uri": "https://localhost:8080/"
        },
        "id": "9UmMvE-91TZ5",
        "outputId": "e91b5c5a-177a-499f-d6aa-de565809d600"
      },
      "execution_count": 20,
      "outputs": [
        {
          "output_type": "stream",
          "name": "stdout",
          "text": [
            "['Tomato', 'Potato', 'carrot', 'peas', 'Cabbage', 'Letture', 'Garlic']\n"
          ]
        }
      ]
    },
    {
      "cell_type": "code",
      "source": [
        "veg.remove(\"Garlic\")"
      ],
      "metadata": {
        "id": "5KpoJJiK1TWz"
      },
      "execution_count": 23,
      "outputs": []
    },
    {
      "cell_type": "code",
      "source": [
        "print(veg)"
      ],
      "metadata": {
        "colab": {
          "base_uri": "https://localhost:8080/"
        },
        "id": "2cf_4gf71TUd",
        "outputId": "f3784995-2ad5-4125-fb94-2c7993982078"
      },
      "execution_count": 24,
      "outputs": [
        {
          "output_type": "stream",
          "name": "stdout",
          "text": [
            "['Tomato', 'Potato', 'carrot', 'peas', 'Cabbage', 'Letture']\n"
          ]
        }
      ]
    },
    {
      "cell_type": "code",
      "source": [
        "a = [\"apple\", \"banana\", \"cherry\"]\n",
        "b = [\"Ford\", \"BMW\", \"Volvo\"]"
      ],
      "metadata": {
        "id": "vSlxYIby1TMT"
      },
      "execution_count": 28,
      "outputs": []
    },
    {
      "cell_type": "code",
      "source": [
        "a.append(b)"
      ],
      "metadata": {
        "id": "_baEAj5T5Sq6"
      },
      "execution_count": 29,
      "outputs": []
    },
    {
      "cell_type": "code",
      "source": [
        "print(a)"
      ],
      "metadata": {
        "colab": {
          "base_uri": "https://localhost:8080/"
        },
        "id": "dnxAYFSp5SoP",
        "outputId": "8cb7d4cf-3bed-4c44-9fcd-69f742e2141c"
      },
      "execution_count": 30,
      "outputs": [
        {
          "output_type": "stream",
          "name": "stdout",
          "text": [
            "['apple', 'banana', 'cherry', ['Ford', 'BMW', 'Volvo']]\n"
          ]
        }
      ]
    },
    {
      "cell_type": "code",
      "source": [
        "a.insert(0,\"Orange\")"
      ],
      "metadata": {
        "id": "Z4-yeZHQ5Slm"
      },
      "execution_count": 33,
      "outputs": []
    },
    {
      "cell_type": "code",
      "source": [
        "print(a)"
      ],
      "metadata": {
        "colab": {
          "base_uri": "https://localhost:8080/"
        },
        "id": "Ef_EgTxO65Uh",
        "outputId": "6e26e6db-58af-41a9-93da-c4adb522960d"
      },
      "execution_count": 34,
      "outputs": [
        {
          "output_type": "stream",
          "name": "stdout",
          "text": [
            "['Orange', 'apple', 'banana', 'cherry', ['Ford', 'BMW', 'Volvo']]\n"
          ]
        }
      ]
    }
  ]
}